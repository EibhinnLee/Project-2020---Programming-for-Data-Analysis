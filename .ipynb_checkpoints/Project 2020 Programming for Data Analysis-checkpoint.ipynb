{
 "cells": [
  {
   "cell_type": "code",
   "execution_count": 1,
   "metadata": {},
   "outputs": [],
   "source": [
    "import numpy as np\n",
    "import pandas as pd"
   ]
  },
  {
   "cell_type": "code",
   "execution_count": null,
   "metadata": {},
   "outputs": [],
   "source": []
  },
  {
   "cell_type": "code",
   "execution_count": 2,
   "metadata": {},
   "outputs": [],
   "source": [
    "#rng = pd.date_range('1/1/2011', periods=10, freq='H')\n",
    "#rng"
   ]
  },
  {
   "cell_type": "code",
   "execution_count": 3,
   "metadata": {},
   "outputs": [],
   "source": [
    "#df = pd.read_csv(\"https://raw.githubusercontent.com/uiuc-cse/data-fa14/gh-pages/data/iris.csv\")\n",
    "#df"
   ]
  },
  {
   "cell_type": "code",
   "execution_count": null,
   "metadata": {},
   "outputs": [],
   "source": []
  },
  {
   "cell_type": "code",
   "execution_count": null,
   "metadata": {},
   "outputs": [],
   "source": []
  },
  {
   "cell_type": "code",
   "execution_count": null,
   "metadata": {},
   "outputs": [],
   "source": []
  },
  {
   "cell_type": "code",
   "execution_count": 4,
   "metadata": {},
   "outputs": [],
   "source": [
    "#"
   ]
  },
  {
   "cell_type": "code",
   "execution_count": 5,
   "metadata": {},
   "outputs": [],
   "source": [
    "#"
   ]
  },
  {
   "cell_type": "code",
   "execution_count": 6,
   "metadata": {},
   "outputs": [],
   "source": [
    "#df"
   ]
  },
  {
   "cell_type": "code",
   "execution_count": null,
   "metadata": {},
   "outputs": [],
   "source": []
  },
  {
   "cell_type": "code",
   "execution_count": null,
   "metadata": {},
   "outputs": [],
   "source": []
  },
  {
   "cell_type": "code",
   "execution_count": null,
   "metadata": {},
   "outputs": [],
   "source": []
  },
  {
   "cell_type": "code",
   "execution_count": null,
   "metadata": {},
   "outputs": [],
   "source": []
  },
  {
   "cell_type": "code",
   "execution_count": null,
   "metadata": {},
   "outputs": [],
   "source": []
  },
  {
   "cell_type": "code",
   "execution_count": null,
   "metadata": {},
   "outputs": [],
   "source": []
  },
  {
   "cell_type": "code",
   "execution_count": null,
   "metadata": {},
   "outputs": [],
   "source": []
  },
  {
   "cell_type": "code",
   "execution_count": 7,
   "metadata": {},
   "outputs": [],
   "source": [
    "#ts = pd.DataFrame(dfhorses), (np.random,poisson(5,len(dfhorses))),columns = [\"falls\"]"
   ]
  },
  {
   "cell_type": "code",
   "execution_count": 8,
   "metadata": {},
   "outputs": [],
   "source": [
    "#ts"
   ]
  },
  {
   "cell_type": "code",
   "execution_count": 9,
   "metadata": {},
   "outputs": [
    {
     "ename": "IndentationError",
     "evalue": "unexpected indent (<ipython-input-9-ee804c7c18a2>, line 2)",
     "output_type": "error",
     "traceback": [
      "\u001b[1;36m  File \u001b[1;32m\"<ipython-input-9-ee804c7c18a2>\"\u001b[1;36m, line \u001b[1;32m2\u001b[0m\n\u001b[1;33m    ['Riti', 30, 'Delhi', 'India',95.20],\u001b[0m\n\u001b[1;37m    ^\u001b[0m\n\u001b[1;31mIndentationError\u001b[0m\u001b[1;31m:\u001b[0m unexpected indent\n"
     ]
    }
   ],
   "source": [
    "#Jockeys = [['jack', 34, 'Sydeny', 'Australia',85.96],\n",
    "        ['Riti', 30, 'Delhi', 'India',95.20],\n",
    "            ['Vansh', 31, 'Delhi', 'India',85.25],\n",
    "            ['Nanyu', 32, 'Tokyo', 'Japan',74.21],\n",
    "            ['Maychan', 16, 'New York', 'US',99.63],\n",
    "            ['Mike', 17, 'las vegas', 'US',47.28]"
   ]
  },
  {
   "cell_type": "code",
   "execution_count": null,
   "metadata": {},
   "outputs": [],
   "source": [
    "#df = pd.DataFrame(students,\n",
    "                      columns=['Name', '', 'City', 'Country','Agg_Marks'],\n",
    "                           index=['a', 'b', 'c', 'd', 'e', 'f'])"
   ]
  },
  {
   "cell_type": "code",
   "execution_count": null,
   "metadata": {},
   "outputs": [],
   "source": [
    "#df = df.set_index('Agg_Marks')\n",
    "#df"
   ]
  },
  {
   "cell_type": "code",
   "execution_count": null,
   "metadata": {},
   "outputs": [],
   "source": []
  },
  {
   "cell_type": "markdown",
   "metadata": {},
   "source": [
    "https://www.geeksforgeeks.org/python-pandas-dataframe-set_index/\n",
    "\n",
    "https://web.microsoftstream.com/video/db8801fe-9e42-4663-a508-5d6f38bb7327\n",
    "\n"
   ]
  },
  {
   "cell_type": "code",
   "execution_count": null,
   "metadata": {},
   "outputs": [],
   "source": [
    "#cols = df.columns\n",
    "#cols = cols[1:5]\n",
    "#print(cols)\n",
    "#df1 = df[cols]\n",
    "#df[\"falls\"] = df1[cols]"
   ]
  },
  {
   "cell_type": "code",
   "execution_count": null,
   "metadata": {},
   "outputs": [],
   "source": []
  },
  {
   "cell_type": "code",
   "execution_count": null,
   "metadata": {},
   "outputs": [],
   "source": []
  },
  {
   "cell_type": "code",
   "execution_count": 10,
   "metadata": {},
   "outputs": [
    {
     "data": {
      "text/html": [
       "<div>\n",
       "<style scoped>\n",
       "    .dataframe tbody tr th:only-of-type {\n",
       "        vertical-align: middle;\n",
       "    }\n",
       "\n",
       "    .dataframe tbody tr th {\n",
       "        vertical-align: top;\n",
       "    }\n",
       "\n",
       "    .dataframe thead th {\n",
       "        text-align: right;\n",
       "    }\n",
       "</style>\n",
       "<table border=\"1\" class=\"dataframe\">\n",
       "  <thead>\n",
       "    <tr style=\"text-align: right;\">\n",
       "      <th></th>\n",
       "      <th>Rating</th>\n",
       "      <th>Name</th>\n",
       "      <th>Distance</th>\n",
       "      <th>Bred</th>\n",
       "      <th>Location</th>\n",
       "      <th>Age</th>\n",
       "      <th>Novice</th>\n",
       "      <th>Sex</th>\n",
       "    </tr>\n",
       "  </thead>\n",
       "  <tbody>\n",
       "    <tr>\n",
       "      <th>0</th>\n",
       "      <td>173</td>\n",
       "      <td>Al Boum Photo</td>\n",
       "      <td>Staying</td>\n",
       "      <td>French</td>\n",
       "      <td>IRE</td>\n",
       "      <td>8</td>\n",
       "      <td>N</td>\n",
       "      <td>Male</td>\n",
       "    </tr>\n",
       "    <tr>\n",
       "      <th>1</th>\n",
       "      <td>173</td>\n",
       "      <td>Cyrname</td>\n",
       "      <td>Intermedate</td>\n",
       "      <td>French</td>\n",
       "      <td>UK</td>\n",
       "      <td>8</td>\n",
       "      <td>N</td>\n",
       "      <td>Male</td>\n",
       "    </tr>\n",
       "    <tr>\n",
       "      <th>2</th>\n",
       "      <td>172</td>\n",
       "      <td>Santini</td>\n",
       "      <td>Staying</td>\n",
       "      <td>British</td>\n",
       "      <td>UK</td>\n",
       "      <td>8</td>\n",
       "      <td>N</td>\n",
       "      <td>Male</td>\n",
       "    </tr>\n",
       "    <tr>\n",
       "      <th>3</th>\n",
       "      <td>172</td>\n",
       "      <td>Chacun Pour Soi</td>\n",
       "      <td>Minimum</td>\n",
       "      <td>French</td>\n",
       "      <td>IRE</td>\n",
       "      <td>8</td>\n",
       "      <td>N</td>\n",
       "      <td>Male</td>\n",
       "    </tr>\n",
       "    <tr>\n",
       "      <th>4</th>\n",
       "      <td>171</td>\n",
       "      <td>Clan des Obeaux</td>\n",
       "      <td>Staying</td>\n",
       "      <td>French</td>\n",
       "      <td>UK</td>\n",
       "      <td>8</td>\n",
       "      <td>N</td>\n",
       "      <td>Male</td>\n",
       "    </tr>\n",
       "    <tr>\n",
       "      <th>...</th>\n",
       "      <td>...</td>\n",
       "      <td>...</td>\n",
       "      <td>...</td>\n",
       "      <td>...</td>\n",
       "      <td>...</td>\n",
       "      <td>...</td>\n",
       "      <td>...</td>\n",
       "      <td>...</td>\n",
       "    </tr>\n",
       "    <tr>\n",
       "      <th>108</th>\n",
       "      <td>152</td>\n",
       "      <td>Nube Negra</td>\n",
       "      <td>Minimum</td>\n",
       "      <td>Spainish</td>\n",
       "      <td>UK</td>\n",
       "      <td>6</td>\n",
       "      <td>Y</td>\n",
       "      <td>Male</td>\n",
       "    </tr>\n",
       "    <tr>\n",
       "      <th>109</th>\n",
       "      <td>152</td>\n",
       "      <td>Sam Brown</td>\n",
       "      <td>Intermediate</td>\n",
       "      <td>British</td>\n",
       "      <td>UK</td>\n",
       "      <td>8</td>\n",
       "      <td>Y</td>\n",
       "      <td>Male</td>\n",
       "    </tr>\n",
       "    <tr>\n",
       "      <th>110</th>\n",
       "      <td>152</td>\n",
       "      <td>Ordinary World</td>\n",
       "      <td>Minimum</td>\n",
       "      <td>Irish</td>\n",
       "      <td>IRE</td>\n",
       "      <td>10</td>\n",
       "      <td>N</td>\n",
       "      <td>Male</td>\n",
       "    </tr>\n",
       "    <tr>\n",
       "      <th>111</th>\n",
       "      <td>152</td>\n",
       "      <td>Top Notch</td>\n",
       "      <td>Intermediate</td>\n",
       "      <td>French</td>\n",
       "      <td>UK</td>\n",
       "      <td>9</td>\n",
       "      <td>N</td>\n",
       "      <td>Male</td>\n",
       "    </tr>\n",
       "    <tr>\n",
       "      <th>112</th>\n",
       "      <td>152</td>\n",
       "      <td>Wicklow Brave</td>\n",
       "      <td>Minimum</td>\n",
       "      <td>British</td>\n",
       "      <td>IRE</td>\n",
       "      <td>11</td>\n",
       "      <td>Y</td>\n",
       "      <td>Male</td>\n",
       "    </tr>\n",
       "  </tbody>\n",
       "</table>\n",
       "<p>113 rows × 8 columns</p>\n",
       "</div>"
      ],
      "text/plain": [
       "     Rating             Name      Distance      Bred Location  Age Novice  \\\n",
       "0       173    Al Boum Photo       Staying    French      IRE    8      N   \n",
       "1       173          Cyrname   Intermedate    French       UK    8      N   \n",
       "2       172          Santini       Staying   British       UK    8      N   \n",
       "3       172  Chacun Pour Soi       Minimum    French      IRE    8      N   \n",
       "4       171  Clan des Obeaux       Staying    French       UK    8      N   \n",
       "..      ...              ...           ...       ...      ...  ...    ...   \n",
       "108     152       Nube Negra       Minimum  Spainish       UK    6      Y   \n",
       "109     152        Sam Brown  Intermediate   British       UK    8      Y   \n",
       "110     152   Ordinary World       Minimum     Irish      IRE   10      N   \n",
       "111     152        Top Notch  Intermediate    French       UK    9      N   \n",
       "112     152    Wicklow Brave       Minimum   British      IRE   11      Y   \n",
       "\n",
       "      Sex   \n",
       "0     Male  \n",
       "1     Male  \n",
       "2    Male   \n",
       "3     Male  \n",
       "4     Male  \n",
       "..     ...  \n",
       "108   Male  \n",
       "109   Male  \n",
       "110   Male  \n",
       "111   Male  \n",
       "112   Male  \n",
       "\n",
       "[113 rows x 8 columns]"
      ]
     },
     "execution_count": 10,
     "metadata": {},
     "output_type": "execute_result"
    }
   ],
   "source": [
    "df = pd.read_csv(\"https://raw.githubusercontent.com/EibhinnLee/Project-2020---Programming-for-Data-Analysis/main/Horses_Dataset_Project2020.txt\")\n",
    "df"
   ]
  },
  {
   "cell_type": "code",
   "execution_count": null,
   "metadata": {},
   "outputs": [],
   "source": [
    "# Taking out columns only required\n",
    "#df = df[['Rating','Name']]"
   ]
  },
  {
   "cell_type": "code",
   "execution_count": null,
   "metadata": {},
   "outputs": [],
   "source": [
    "#df"
   ]
  },
  {
   "cell_type": "markdown",
   "metadata": {},
   "source": [
    "https://www.geeksforgeeks.org/how-to-add-empty-column-to-dataframe-in-pandas/\n",
    "\n",
    "Adding new columns to original dataframe"
   ]
  },
  {
   "cell_type": "code",
   "execution_count": null,
   "metadata": {},
   "outputs": [],
   "source": [
    "#df = df.reindex(columns = df.columns.tolist()  \n",
    "                                  + ['2020_Rating','Retire','2020_Distance', '#_Runs']) "
   ]
  },
  {
   "cell_type": "markdown",
   "metadata": {},
   "source": [
    "https://stackoverflow.com/questions/29517072/add-column-to-dataframe-with-constant-value\n",
    "\n",
    "Adding column with data to dataframe"
   ]
  },
  {
   "cell_type": "code",
   "execution_count": 39,
   "metadata": {},
   "outputs": [],
   "source": [
    "# Adding column with data to dataframe\n",
    "a = [\"yes\",\"no\"]\n",
    "\n",
    "df['retire'] = np.random.choice(a, len(df))"
   ]
  },
  {
   "cell_type": "code",
   "execution_count": 40,
   "metadata": {},
   "outputs": [],
   "source": [
    "# Adding column with data to dataframe\n",
    "\n",
    "df['#_Runs'] = np.random.poisson(3, len(df))"
   ]
  },
  {
   "cell_type": "code",
   "execution_count": 41,
   "metadata": {},
   "outputs": [],
   "source": [
    "# Adding column with data to dataframe\n",
    "\n",
    "b = [\"Staying\", \"Intermediate\", \"Minimum\"]\n",
    "\n",
    "df['2020_Distance'] = np.random.choice(b, len(df))"
   ]
  },
  {
   "cell_type": "code",
   "execution_count": 42,
   "metadata": {},
   "outputs": [],
   "source": [
    "# Adding column with data to dataframe\n",
    "#df['2020_Rating'] = '155' \n",
    "\n",
    "df['2020_Rating'] = np.random.poisson(10, len(df))"
   ]
  },
  {
   "cell_type": "code",
   "execution_count": 43,
   "metadata": {},
   "outputs": [
    {
     "data": {
      "text/html": [
       "<div>\n",
       "<style scoped>\n",
       "    .dataframe tbody tr th:only-of-type {\n",
       "        vertical-align: middle;\n",
       "    }\n",
       "\n",
       "    .dataframe tbody tr th {\n",
       "        vertical-align: top;\n",
       "    }\n",
       "\n",
       "    .dataframe thead th {\n",
       "        text-align: right;\n",
       "    }\n",
       "</style>\n",
       "<table border=\"1\" class=\"dataframe\">\n",
       "  <thead>\n",
       "    <tr style=\"text-align: right;\">\n",
       "      <th></th>\n",
       "      <th>Rating</th>\n",
       "      <th>Name</th>\n",
       "      <th>Distance</th>\n",
       "      <th>Bred</th>\n",
       "      <th>Location</th>\n",
       "      <th>Age</th>\n",
       "      <th>Novice</th>\n",
       "      <th>Sex</th>\n",
       "      <th>retire</th>\n",
       "      <th>#_Runs</th>\n",
       "      <th>2020_Distance</th>\n",
       "      <th>2020_Rating</th>\n",
       "    </tr>\n",
       "  </thead>\n",
       "  <tbody>\n",
       "    <tr>\n",
       "      <th>0</th>\n",
       "      <td>173</td>\n",
       "      <td>Al Boum Photo</td>\n",
       "      <td>Staying</td>\n",
       "      <td>French</td>\n",
       "      <td>IRE</td>\n",
       "      <td>8</td>\n",
       "      <td>N</td>\n",
       "      <td>Male</td>\n",
       "      <td>no</td>\n",
       "      <td>2</td>\n",
       "      <td>Minimum</td>\n",
       "      <td>15</td>\n",
       "    </tr>\n",
       "    <tr>\n",
       "      <th>1</th>\n",
       "      <td>173</td>\n",
       "      <td>Cyrname</td>\n",
       "      <td>Intermedate</td>\n",
       "      <td>French</td>\n",
       "      <td>UK</td>\n",
       "      <td>8</td>\n",
       "      <td>N</td>\n",
       "      <td>Male</td>\n",
       "      <td>yes</td>\n",
       "      <td>2</td>\n",
       "      <td>Staying</td>\n",
       "      <td>8</td>\n",
       "    </tr>\n",
       "    <tr>\n",
       "      <th>2</th>\n",
       "      <td>172</td>\n",
       "      <td>Santini</td>\n",
       "      <td>Staying</td>\n",
       "      <td>British</td>\n",
       "      <td>UK</td>\n",
       "      <td>8</td>\n",
       "      <td>N</td>\n",
       "      <td>Male</td>\n",
       "      <td>yes</td>\n",
       "      <td>2</td>\n",
       "      <td>Staying</td>\n",
       "      <td>15</td>\n",
       "    </tr>\n",
       "    <tr>\n",
       "      <th>3</th>\n",
       "      <td>172</td>\n",
       "      <td>Chacun Pour Soi</td>\n",
       "      <td>Minimum</td>\n",
       "      <td>French</td>\n",
       "      <td>IRE</td>\n",
       "      <td>8</td>\n",
       "      <td>N</td>\n",
       "      <td>Male</td>\n",
       "      <td>no</td>\n",
       "      <td>4</td>\n",
       "      <td>Intermediate</td>\n",
       "      <td>6</td>\n",
       "    </tr>\n",
       "    <tr>\n",
       "      <th>4</th>\n",
       "      <td>171</td>\n",
       "      <td>Clan des Obeaux</td>\n",
       "      <td>Staying</td>\n",
       "      <td>French</td>\n",
       "      <td>UK</td>\n",
       "      <td>8</td>\n",
       "      <td>N</td>\n",
       "      <td>Male</td>\n",
       "      <td>no</td>\n",
       "      <td>5</td>\n",
       "      <td>Intermediate</td>\n",
       "      <td>7</td>\n",
       "    </tr>\n",
       "    <tr>\n",
       "      <th>...</th>\n",
       "      <td>...</td>\n",
       "      <td>...</td>\n",
       "      <td>...</td>\n",
       "      <td>...</td>\n",
       "      <td>...</td>\n",
       "      <td>...</td>\n",
       "      <td>...</td>\n",
       "      <td>...</td>\n",
       "      <td>...</td>\n",
       "      <td>...</td>\n",
       "      <td>...</td>\n",
       "      <td>...</td>\n",
       "    </tr>\n",
       "    <tr>\n",
       "      <th>108</th>\n",
       "      <td>152</td>\n",
       "      <td>Nube Negra</td>\n",
       "      <td>Minimum</td>\n",
       "      <td>Spainish</td>\n",
       "      <td>UK</td>\n",
       "      <td>6</td>\n",
       "      <td>Y</td>\n",
       "      <td>Male</td>\n",
       "      <td>yes</td>\n",
       "      <td>3</td>\n",
       "      <td>Minimum</td>\n",
       "      <td>14</td>\n",
       "    </tr>\n",
       "    <tr>\n",
       "      <th>109</th>\n",
       "      <td>152</td>\n",
       "      <td>Sam Brown</td>\n",
       "      <td>Intermediate</td>\n",
       "      <td>British</td>\n",
       "      <td>UK</td>\n",
       "      <td>8</td>\n",
       "      <td>Y</td>\n",
       "      <td>Male</td>\n",
       "      <td>yes</td>\n",
       "      <td>2</td>\n",
       "      <td>Intermediate</td>\n",
       "      <td>8</td>\n",
       "    </tr>\n",
       "    <tr>\n",
       "      <th>110</th>\n",
       "      <td>152</td>\n",
       "      <td>Ordinary World</td>\n",
       "      <td>Minimum</td>\n",
       "      <td>Irish</td>\n",
       "      <td>IRE</td>\n",
       "      <td>10</td>\n",
       "      <td>N</td>\n",
       "      <td>Male</td>\n",
       "      <td>no</td>\n",
       "      <td>1</td>\n",
       "      <td>Staying</td>\n",
       "      <td>9</td>\n",
       "    </tr>\n",
       "    <tr>\n",
       "      <th>111</th>\n",
       "      <td>152</td>\n",
       "      <td>Top Notch</td>\n",
       "      <td>Intermediate</td>\n",
       "      <td>French</td>\n",
       "      <td>UK</td>\n",
       "      <td>9</td>\n",
       "      <td>N</td>\n",
       "      <td>Male</td>\n",
       "      <td>yes</td>\n",
       "      <td>3</td>\n",
       "      <td>Minimum</td>\n",
       "      <td>14</td>\n",
       "    </tr>\n",
       "    <tr>\n",
       "      <th>112</th>\n",
       "      <td>152</td>\n",
       "      <td>Wicklow Brave</td>\n",
       "      <td>Minimum</td>\n",
       "      <td>British</td>\n",
       "      <td>IRE</td>\n",
       "      <td>11</td>\n",
       "      <td>Y</td>\n",
       "      <td>Male</td>\n",
       "      <td>yes</td>\n",
       "      <td>1</td>\n",
       "      <td>Minimum</td>\n",
       "      <td>7</td>\n",
       "    </tr>\n",
       "  </tbody>\n",
       "</table>\n",
       "<p>113 rows × 12 columns</p>\n",
       "</div>"
      ],
      "text/plain": [
       "     Rating             Name      Distance      Bred Location  Age Novice  \\\n",
       "0       173    Al Boum Photo       Staying    French      IRE    8      N   \n",
       "1       173          Cyrname   Intermedate    French       UK    8      N   \n",
       "2       172          Santini       Staying   British       UK    8      N   \n",
       "3       172  Chacun Pour Soi       Minimum    French      IRE    8      N   \n",
       "4       171  Clan des Obeaux       Staying    French       UK    8      N   \n",
       "..      ...              ...           ...       ...      ...  ...    ...   \n",
       "108     152       Nube Negra       Minimum  Spainish       UK    6      Y   \n",
       "109     152        Sam Brown  Intermediate   British       UK    8      Y   \n",
       "110     152   Ordinary World       Minimum     Irish      IRE   10      N   \n",
       "111     152        Top Notch  Intermediate    French       UK    9      N   \n",
       "112     152    Wicklow Brave       Minimum   British      IRE   11      Y   \n",
       "\n",
       "      Sex  retire  #_Runs 2020_Distance  2020_Rating  \n",
       "0     Male     no       2       Minimum           15  \n",
       "1     Male    yes       2       Staying            8  \n",
       "2    Male     yes       2       Staying           15  \n",
       "3     Male     no       4  Intermediate            6  \n",
       "4     Male     no       5  Intermediate            7  \n",
       "..     ...    ...     ...           ...          ...  \n",
       "108   Male    yes       3       Minimum           14  \n",
       "109   Male    yes       2  Intermediate            8  \n",
       "110   Male     no       1       Staying            9  \n",
       "111   Male    yes       3       Minimum           14  \n",
       "112   Male    yes       1       Minimum            7  \n",
       "\n",
       "[113 rows x 12 columns]"
      ]
     },
     "execution_count": 43,
     "metadata": {},
     "output_type": "execute_result"
    }
   ],
   "source": [
    "# df now includes original dataframe along with new columns and data\n",
    "df"
   ]
  },
  {
   "cell_type": "code",
   "execution_count": null,
   "metadata": {},
   "outputs": [],
   "source": [
    "#np.random.poisson value from value in dataframe column"
   ]
  }
 ],
 "metadata": {
  "kernelspec": {
   "display_name": "Python 3",
   "language": "python",
   "name": "python3"
  },
  "language_info": {
   "codemirror_mode": {
    "name": "ipython",
    "version": 3
   },
   "file_extension": ".py",
   "mimetype": "text/x-python",
   "name": "python",
   "nbconvert_exporter": "python",
   "pygments_lexer": "ipython3",
   "version": "3.8.3"
  }
 },
 "nbformat": 4,
 "nbformat_minor": 4
}
