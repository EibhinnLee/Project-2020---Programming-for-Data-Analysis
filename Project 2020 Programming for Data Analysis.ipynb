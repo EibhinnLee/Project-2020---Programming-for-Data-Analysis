{
 "cells": [
  {
   "cell_type": "markdown",
   "metadata": {},
   "source": [
    "# Project 2020\n",
    "## Programming for Data Analysis\n",
    "***\n",
    "### Eibhinn Lee\n",
    "### G00226502\n",
    "***"
   ]
  },
  {
   "cell_type": "markdown",
   "metadata": {},
   "source": [
    "### Problem statement\n",
    "**Create a data set by simulating a real-world phenomenon of your choosing.\n",
    "Use the numpy.random package to model and synthesise such data using Python.**\n",
    "\n",
    "***Specifically, in this project you should:***\n",
    "- Choose a real-world phenomenon that can be measured and for which you could collect at least one-hundred data points across at least four different variables.\n",
    "- Investigate the types of variables involved, their likely distributions, and their relationships with each other.\n",
    "- Synthesise/simulate a data set as closely matching their properties as possible.\n",
    "- Detail your research and implement the simulation in a Jupyter notebook – the data set itself can simply be displayed in an output cell within the notebook.\n",
    "***\n",
    "\n",
    "Note that this project is about simulation – you must synthesise a data set. Some\n",
    "students may already have some real-world data sets in their own files. It is okay to\n",
    "base your synthesised data set on these should you wish (please reference it if you do),\n",
    "but the main task in this project is to create a synthesised data set. The next section\n",
    "gives an example project idea.\n",
    "***"
   ]
  },
  {
   "cell_type": "markdown",
   "metadata": {},
   "source": [
    "\n",
    "\n",
    "### Dataset Info\n",
    "***\n",
    "For the purpose of the project, I manually created a dataset relating to the spoprt of horse racing.\n",
    "To delve deeper, I created a dataset using the top 112 Steeplechasers rated from the 2019-2020 season.\n",
    "To add some context, Horse Racing is split into two disciplines:\n",
    "- Flat\n",
    "- National Hunt\n",
    "\n",
    "Within National Hunt racing or Jump Racing, there are 3 main types of races\n",
    "- Steeplechase (Largest obstacles)\n",
    "- Hurdle (Smaller obstacles)\n",
    "- National Hunt flat race (no obstacles)\n",
    "\n",
    "So, the data upcoming is from the National Hunt section of Horse Racing and to be specific, Steeplechasing.\n",
    "\n",
    "This information can be found at the following URL with information solely taken from page 2.\n",
    "https://support.racingadmin.co.uk/opencms/export/sites/weatherbys/racing-admin-support/.galleries/racing-admin-downloads/anglo-irish-jump-classification.pdf\n",
    "\n",
    "The rationale behind creating this dataset was two-fold:\n",
    "- I'm interested in the sport and\n",
    "- I can randomly generate data closely related to the initial dataframe that I created.\n",
    "\n",
    "References\n",
    "***\n",
    "https://medium.com/@ingeh/markdown-for-jupyter-notebooks-cheatsheet-386c05aeebed\n",
    "\n",
    "https://support.racingadmin.co.uk/opencms/export/sites/weatherbys/racing-admin-support/.galleries/racing-admin-downloads/anglo-irish-jump-classification.pdf"
   ]
  },
  {
   "cell_type": "markdown",
   "metadata": {},
   "source": [
    "#### Variables used and explained\n",
    "***\n",
    "**Rating**\n",
    "- Each racehorse that runs under the rules of racing will get a rating. If a horse has not run yet in its life, it will be restricted to certain races that will be under the same conditions for each horse until it has received a rating. Each jursdiction both sides of the Irish sea employ a team of people known as 'handicappers' who review, analyse and set ratings for racehorses. Generally, ratings are choosen by how each horse has run, the race type in ran in, the class of race, the time of the race along with other factors.\n",
    "\n",
    "**Name**\n",
    "- Every horse is named and registered with the regulatory body. Every horse has a passport to distinguish exactly is the correct horse present on the day of the race.\n",
    "\n",
    "**Distance**\n",
    "- For the dataset, I decided to classify this variable into three as given by the \"ANGLO-IRISH STEEPLECHASE CLASSIFICATION\". In the classification, the three groups are:\n",
    "\n",
    "- 2 miles 7f+ \n",
    "- 2 miles 3f to 2 miles 6.5f\n",
    "- 2 miles to 2 miles 2.5f\n",
    "\n",
    "(please not a 'f' refers to furlong which is a measure used within the Sport. A furlong is 1/8th of a mile)\n",
    "\n",
    "For my dataset,I summerise each distance in a category.I simply used:\n",
    "\n",
    "- Staying (2 miles 7f+)\n",
    "- Intermediate (2 miles 3f to 2 miles 6.5f)\n",
    "- Minimum (2 miles to 2 miles 2.5f)\n",
    "\n",
    "**Bred**\n",
    "- Is a straightforward variable indicating what country the horse was bred. For official purposes, this is generally provided at the end of the horses name e.g 'FR', 'GB', 'IRE'\n",
    "\n",
    "**Location**\n",
    "This is a variable I came up with to describe where the horse is trained\n",
    "\n",
    "**Age** \n",
    "- Age of the horse at the time of the project. All horses will offically be 1 year older on 1st January day regardless of the month they were born.\n",
    "\n",
    "**Novice** \n",
    "- Novice is a term used to describe a horse in its first year at a discipline. In the case of the dataset, all are under the same discipline which is Steeplechase. But other disciplines are 'flat' and 'hurdles'. Generally speaking but not always the case, horses progress from flat to hurdles to steeplechases and the first year in each discipline they will be classified as a novice.\n",
    "\n",
    "**Sex**\n",
    " - Male or Female."
   ]
  },
  {
   "cell_type": "markdown",
   "metadata": {},
   "source": [
    "### Import Libraries required."
   ]
  },
  {
   "cell_type": "code",
   "execution_count": 1,
   "metadata": {},
   "outputs": [],
   "source": [
    "%matplotlib inline"
   ]
  },
  {
   "cell_type": "code",
   "execution_count": 2,
   "metadata": {},
   "outputs": [],
   "source": [
    "import numpy as np\n",
    "import pandas as pd\n",
    "import seaborn as sns\n",
    "import matplotlib.pyplot as plt"
   ]
  },
  {
   "cell_type": "markdown",
   "metadata": {},
   "source": [
    "### Dataset"
   ]
  },
  {
   "cell_type": "code",
   "execution_count": 56,
   "metadata": {},
   "outputs": [
    {
     "data": {
      "text/html": [
       "<div>\n",
       "<style scoped>\n",
       "    .dataframe tbody tr th:only-of-type {\n",
       "        vertical-align: middle;\n",
       "    }\n",
       "\n",
       "    .dataframe tbody tr th {\n",
       "        vertical-align: top;\n",
       "    }\n",
       "\n",
       "    .dataframe thead th {\n",
       "        text-align: right;\n",
       "    }\n",
       "</style>\n",
       "<table border=\"1\" class=\"dataframe\">\n",
       "  <thead>\n",
       "    <tr style=\"text-align: right;\">\n",
       "      <th></th>\n",
       "      <th>Rating</th>\n",
       "      <th>Name</th>\n",
       "      <th>Distance</th>\n",
       "      <th>Bred</th>\n",
       "      <th>Location</th>\n",
       "      <th>Age</th>\n",
       "      <th>Novice</th>\n",
       "      <th>Sex</th>\n",
       "    </tr>\n",
       "  </thead>\n",
       "  <tbody>\n",
       "    <tr>\n",
       "      <th>0</th>\n",
       "      <td>173</td>\n",
       "      <td>Al Boum Photo</td>\n",
       "      <td>Staying</td>\n",
       "      <td>French</td>\n",
       "      <td>IRE</td>\n",
       "      <td>8</td>\n",
       "      <td>N</td>\n",
       "      <td>Male</td>\n",
       "    </tr>\n",
       "    <tr>\n",
       "      <th>1</th>\n",
       "      <td>173</td>\n",
       "      <td>Cyrname</td>\n",
       "      <td>Intermediate</td>\n",
       "      <td>French</td>\n",
       "      <td>UK</td>\n",
       "      <td>8</td>\n",
       "      <td>N</td>\n",
       "      <td>Male</td>\n",
       "    </tr>\n",
       "    <tr>\n",
       "      <th>2</th>\n",
       "      <td>172</td>\n",
       "      <td>Santini</td>\n",
       "      <td>Staying</td>\n",
       "      <td>British</td>\n",
       "      <td>UK</td>\n",
       "      <td>8</td>\n",
       "      <td>N</td>\n",
       "      <td>Male</td>\n",
       "    </tr>\n",
       "    <tr>\n",
       "      <th>3</th>\n",
       "      <td>172</td>\n",
       "      <td>Chacun Pour Soi</td>\n",
       "      <td>Minimum</td>\n",
       "      <td>French</td>\n",
       "      <td>IRE</td>\n",
       "      <td>8</td>\n",
       "      <td>N</td>\n",
       "      <td>Male</td>\n",
       "    </tr>\n",
       "    <tr>\n",
       "      <th>4</th>\n",
       "      <td>171</td>\n",
       "      <td>Clan des Obeaux</td>\n",
       "      <td>Staying</td>\n",
       "      <td>French</td>\n",
       "      <td>UK</td>\n",
       "      <td>8</td>\n",
       "      <td>N</td>\n",
       "      <td>Male</td>\n",
       "    </tr>\n",
       "    <tr>\n",
       "      <th>...</th>\n",
       "      <td>...</td>\n",
       "      <td>...</td>\n",
       "      <td>...</td>\n",
       "      <td>...</td>\n",
       "      <td>...</td>\n",
       "      <td>...</td>\n",
       "      <td>...</td>\n",
       "      <td>...</td>\n",
       "    </tr>\n",
       "    <tr>\n",
       "      <th>108</th>\n",
       "      <td>152</td>\n",
       "      <td>Nube Negra</td>\n",
       "      <td>Minimum</td>\n",
       "      <td>Spanish</td>\n",
       "      <td>UK</td>\n",
       "      <td>6</td>\n",
       "      <td>Y</td>\n",
       "      <td>Male</td>\n",
       "    </tr>\n",
       "    <tr>\n",
       "      <th>109</th>\n",
       "      <td>152</td>\n",
       "      <td>Sam Brown</td>\n",
       "      <td>Intermediate</td>\n",
       "      <td>British</td>\n",
       "      <td>UK</td>\n",
       "      <td>8</td>\n",
       "      <td>Y</td>\n",
       "      <td>Male</td>\n",
       "    </tr>\n",
       "    <tr>\n",
       "      <th>110</th>\n",
       "      <td>152</td>\n",
       "      <td>Ordinary World</td>\n",
       "      <td>Minimum</td>\n",
       "      <td>Irish</td>\n",
       "      <td>IRE</td>\n",
       "      <td>10</td>\n",
       "      <td>N</td>\n",
       "      <td>Male</td>\n",
       "    </tr>\n",
       "    <tr>\n",
       "      <th>111</th>\n",
       "      <td>152</td>\n",
       "      <td>Top Notch</td>\n",
       "      <td>Intermediate</td>\n",
       "      <td>French</td>\n",
       "      <td>UK</td>\n",
       "      <td>9</td>\n",
       "      <td>N</td>\n",
       "      <td>Male</td>\n",
       "    </tr>\n",
       "    <tr>\n",
       "      <th>112</th>\n",
       "      <td>152</td>\n",
       "      <td>Wicklow Brave</td>\n",
       "      <td>Minimum</td>\n",
       "      <td>British</td>\n",
       "      <td>IRE</td>\n",
       "      <td>11</td>\n",
       "      <td>Y</td>\n",
       "      <td>Male</td>\n",
       "    </tr>\n",
       "  </tbody>\n",
       "</table>\n",
       "<p>113 rows × 8 columns</p>\n",
       "</div>"
      ],
      "text/plain": [
       "     Rating             Name      Distance     Bred Location  Age Novice  \\\n",
       "0       173    Al Boum Photo       Staying   French      IRE    8      N   \n",
       "1       173          Cyrname  Intermediate   French       UK    8      N   \n",
       "2       172          Santini       Staying  British       UK    8      N   \n",
       "3       172  Chacun Pour Soi       Minimum   French      IRE    8      N   \n",
       "4       171  Clan des Obeaux       Staying   French       UK    8      N   \n",
       "..      ...              ...           ...      ...      ...  ...    ...   \n",
       "108     152       Nube Negra       Minimum  Spanish       UK    6      Y   \n",
       "109     152        Sam Brown  Intermediate  British       UK    8      Y   \n",
       "110     152   Ordinary World       Minimum    Irish      IRE   10      N   \n",
       "111     152        Top Notch  Intermediate   French       UK    9      N   \n",
       "112     152    Wicklow Brave       Minimum  British      IRE   11      Y   \n",
       "\n",
       "      Sex   \n",
       "0     Male  \n",
       "1     Male  \n",
       "2    Male   \n",
       "3     Male  \n",
       "4     Male  \n",
       "..     ...  \n",
       "108   Male  \n",
       "109   Male  \n",
       "110   Male  \n",
       "111   Male  \n",
       "112   Male  \n",
       "\n",
       "[113 rows x 8 columns]"
      ]
     },
     "execution_count": 56,
     "metadata": {},
     "output_type": "execute_result"
    }
   ],
   "source": [
    "# Using pandas to import dataframe as a csv\n",
    "# dataset saved to github\n",
    "\n",
    "\n",
    "df = pd.read_csv(\"https://raw.githubusercontent.com/EibhinnLee/Project-2020---Programming-for-Data-Analysis/main/Horses_Dataset_Project2020.txt\")\n",
    "\n",
    "df"
   ]
  },
  {
   "cell_type": "markdown",
   "metadata": {},
   "source": [
    "As you can see from the Dataset above, this is the manually created dataset. It specifically highlights the following:\n",
    "- Rating\n",
    "- Name\n",
    "- Distance (for 2019)\n",
    "- Bred\n",
    "- Location (where the horse is trained)\n",
    "- age\n",
    "- novice\n",
    "- sex\n",
    "\n",
    "\n",
    "References\n",
    "***\n",
    "https://www.geeksforgeeks.org/python-pandas-dataframe-set_index/\n",
    "\n",
    "https://web.microsoftstream.com/video/db8801fe-9e42-4663-a508-5d6f38bb7327\n"
   ]
  },
  {
   "cell_type": "markdown",
   "metadata": {},
   "source": [
    "### Simulation\n",
    "\n",
    "In this section, 4 new columns will be added to the orginal Dataset.\n",
    "\n",
    "They are as follows:\n",
    "- Retire - Will the horse be retired at the end of the year 2020.\n",
    "- 2020_#_Runs - How many times will the horse run in the coming season\n",
    "- 2020_Distance - Will the horse run over the same or different distances this season\n",
    "- 2020_Rating - What will the rating of the horse be by the end of the upcoming season.\n",
    "\n",
    "References\n",
    "***\n",
    "\n",
    "https://www.geeksforgeeks.org/how-to-add-empty-column-to-dataframe-in-pandas/\n",
    "\n",
    "https://stackoverflow.com/questions/29517072/add-column-to-dataframe-with-constant-value\n",
    "\n",
    "https://numpy.org/doc/stable/reference/random/generated/numpy.random.poisson.html"
   ]
  },
  {
   "cell_type": "code",
   "execution_count": 61,
   "metadata": {},
   "outputs": [],
   "source": [
    "# Adding a new column with data to original dataframe.\n",
    "# results i expect are a simple 'yes' or 'no' value.\n",
    "\n",
    "# creating a list of the values.\n",
    "a = [\"yes\",\"no\"]\n",
    "\n",
    "# using the numpy.random package to randomly choose whether or not the horse will retire by the end of the upcoming season.\n",
    "df['Retire'] = np.random.choice(a, len(df))"
   ]
  },
  {
   "cell_type": "code",
   "execution_count": 62,
   "metadata": {},
   "outputs": [],
   "source": [
    "# Adding a second new column with data to original dataframe.\n",
    "# results will vary with an expectation value of 4 which would be about average for the number of races a horse whould run in.\n",
    "# This numpy.random function allows this to show that not every horse will run that many times or will in fact run more times.\n",
    "\n",
    "# using the numpy.random.poisson function to randomly show the varying integer in and around the expectation value of 4.\n",
    "df['2020_#_Runs'] = np.random.poisson(4, len(df))"
   ]
  },
  {
   "cell_type": "code",
   "execution_count": 63,
   "metadata": {},
   "outputs": [],
   "source": [
    "# Adding a third new column with data to original dataframe.\n",
    "# results expected are from data within the orginal dataframe imported by pandas.\n",
    "# This will distinguish whether a horse will maintain the distance for the coming season or will be revert to a different distance.\n",
    "\n",
    "# list containg the three values\n",
    "b = [\"Staying\", \"Intermediate\", \"Minimum\"]\n",
    "\n",
    "# using the numpy.random package to randomly choose whether the horse will remain or change distance.\n",
    "df['2020_Distance'] = np.random.choice(b, len(df))"
   ]
  },
  {
   "cell_type": "markdown",
   "metadata": {},
   "source": [
    "https://www.geeksforgeeks.org/create-a-new-column-in-pandas-dataframe-based-on-the-existing-columns/?ref=rp"
   ]
  },
  {
   "cell_type": "code",
   "execution_count": 64,
   "metadata": {},
   "outputs": [],
   "source": [
    "# Adding a forth new column with data to original dataframe.\n",
    "# using the numpy.random.poisson function\n",
    "# the function will take the value in the Rating colum as N and apply the function to generate a new value\n",
    "# the new value generated will be the rating the horse will receive at the end of the upcoming season.\n",
    "\n",
    "\n",
    "df['2020_Rating'] = np.random.poisson(df['Rating'], len(df))"
   ]
  },
  {
   "cell_type": "code",
   "execution_count": 8,
   "metadata": {
    "scrolled": true
   },
   "outputs": [
    {
     "data": {
      "text/html": [
       "<div>\n",
       "<style scoped>\n",
       "    .dataframe tbody tr th:only-of-type {\n",
       "        vertical-align: middle;\n",
       "    }\n",
       "\n",
       "    .dataframe tbody tr th {\n",
       "        vertical-align: top;\n",
       "    }\n",
       "\n",
       "    .dataframe thead th {\n",
       "        text-align: right;\n",
       "    }\n",
       "</style>\n",
       "<table border=\"1\" class=\"dataframe\">\n",
       "  <thead>\n",
       "    <tr style=\"text-align: right;\">\n",
       "      <th></th>\n",
       "      <th>Rating</th>\n",
       "      <th>Name</th>\n",
       "      <th>Distance</th>\n",
       "      <th>Bred</th>\n",
       "      <th>Location</th>\n",
       "      <th>Age</th>\n",
       "      <th>Novice</th>\n",
       "      <th>Sex</th>\n",
       "      <th>Retire</th>\n",
       "      <th>2020_#_Runs</th>\n",
       "      <th>2020_Distance</th>\n",
       "      <th>2020_Rating</th>\n",
       "    </tr>\n",
       "  </thead>\n",
       "  <tbody>\n",
       "    <tr>\n",
       "      <th>0</th>\n",
       "      <td>173</td>\n",
       "      <td>Al Boum Photo</td>\n",
       "      <td>Staying</td>\n",
       "      <td>French</td>\n",
       "      <td>IRE</td>\n",
       "      <td>8</td>\n",
       "      <td>N</td>\n",
       "      <td>Male</td>\n",
       "      <td>yes</td>\n",
       "      <td>5</td>\n",
       "      <td>Minimum</td>\n",
       "      <td>184</td>\n",
       "    </tr>\n",
       "    <tr>\n",
       "      <th>1</th>\n",
       "      <td>173</td>\n",
       "      <td>Cyrname</td>\n",
       "      <td>Intermediate</td>\n",
       "      <td>French</td>\n",
       "      <td>UK</td>\n",
       "      <td>8</td>\n",
       "      <td>N</td>\n",
       "      <td>Male</td>\n",
       "      <td>no</td>\n",
       "      <td>5</td>\n",
       "      <td>Minimum</td>\n",
       "      <td>153</td>\n",
       "    </tr>\n",
       "    <tr>\n",
       "      <th>2</th>\n",
       "      <td>172</td>\n",
       "      <td>Santini</td>\n",
       "      <td>Staying</td>\n",
       "      <td>British</td>\n",
       "      <td>UK</td>\n",
       "      <td>8</td>\n",
       "      <td>N</td>\n",
       "      <td>Male</td>\n",
       "      <td>no</td>\n",
       "      <td>3</td>\n",
       "      <td>Intermediate</td>\n",
       "      <td>173</td>\n",
       "    </tr>\n",
       "    <tr>\n",
       "      <th>3</th>\n",
       "      <td>172</td>\n",
       "      <td>Chacun Pour Soi</td>\n",
       "      <td>Minimum</td>\n",
       "      <td>French</td>\n",
       "      <td>IRE</td>\n",
       "      <td>8</td>\n",
       "      <td>N</td>\n",
       "      <td>Male</td>\n",
       "      <td>yes</td>\n",
       "      <td>3</td>\n",
       "      <td>Staying</td>\n",
       "      <td>182</td>\n",
       "    </tr>\n",
       "    <tr>\n",
       "      <th>4</th>\n",
       "      <td>171</td>\n",
       "      <td>Clan des Obeaux</td>\n",
       "      <td>Staying</td>\n",
       "      <td>French</td>\n",
       "      <td>UK</td>\n",
       "      <td>8</td>\n",
       "      <td>N</td>\n",
       "      <td>Male</td>\n",
       "      <td>yes</td>\n",
       "      <td>2</td>\n",
       "      <td>Minimum</td>\n",
       "      <td>156</td>\n",
       "    </tr>\n",
       "    <tr>\n",
       "      <th>...</th>\n",
       "      <td>...</td>\n",
       "      <td>...</td>\n",
       "      <td>...</td>\n",
       "      <td>...</td>\n",
       "      <td>...</td>\n",
       "      <td>...</td>\n",
       "      <td>...</td>\n",
       "      <td>...</td>\n",
       "      <td>...</td>\n",
       "      <td>...</td>\n",
       "      <td>...</td>\n",
       "      <td>...</td>\n",
       "    </tr>\n",
       "    <tr>\n",
       "      <th>108</th>\n",
       "      <td>152</td>\n",
       "      <td>Nube Negra</td>\n",
       "      <td>Minimum</td>\n",
       "      <td>Spanish</td>\n",
       "      <td>UK</td>\n",
       "      <td>6</td>\n",
       "      <td>Y</td>\n",
       "      <td>Male</td>\n",
       "      <td>yes</td>\n",
       "      <td>4</td>\n",
       "      <td>Intermediate</td>\n",
       "      <td>152</td>\n",
       "    </tr>\n",
       "    <tr>\n",
       "      <th>109</th>\n",
       "      <td>152</td>\n",
       "      <td>Sam Brown</td>\n",
       "      <td>Intermediate</td>\n",
       "      <td>British</td>\n",
       "      <td>UK</td>\n",
       "      <td>8</td>\n",
       "      <td>Y</td>\n",
       "      <td>Male</td>\n",
       "      <td>yes</td>\n",
       "      <td>6</td>\n",
       "      <td>Staying</td>\n",
       "      <td>147</td>\n",
       "    </tr>\n",
       "    <tr>\n",
       "      <th>110</th>\n",
       "      <td>152</td>\n",
       "      <td>Ordinary World</td>\n",
       "      <td>Minimum</td>\n",
       "      <td>Irish</td>\n",
       "      <td>IRE</td>\n",
       "      <td>10</td>\n",
       "      <td>N</td>\n",
       "      <td>Male</td>\n",
       "      <td>no</td>\n",
       "      <td>2</td>\n",
       "      <td>Intermediate</td>\n",
       "      <td>151</td>\n",
       "    </tr>\n",
       "    <tr>\n",
       "      <th>111</th>\n",
       "      <td>152</td>\n",
       "      <td>Top Notch</td>\n",
       "      <td>Intermediate</td>\n",
       "      <td>French</td>\n",
       "      <td>UK</td>\n",
       "      <td>9</td>\n",
       "      <td>N</td>\n",
       "      <td>Male</td>\n",
       "      <td>no</td>\n",
       "      <td>5</td>\n",
       "      <td>Intermediate</td>\n",
       "      <td>141</td>\n",
       "    </tr>\n",
       "    <tr>\n",
       "      <th>112</th>\n",
       "      <td>152</td>\n",
       "      <td>Wicklow Brave</td>\n",
       "      <td>Minimum</td>\n",
       "      <td>British</td>\n",
       "      <td>IRE</td>\n",
       "      <td>11</td>\n",
       "      <td>Y</td>\n",
       "      <td>Male</td>\n",
       "      <td>yes</td>\n",
       "      <td>3</td>\n",
       "      <td>Staying</td>\n",
       "      <td>171</td>\n",
       "    </tr>\n",
       "  </tbody>\n",
       "</table>\n",
       "<p>113 rows × 12 columns</p>\n",
       "</div>"
      ],
      "text/plain": [
       "     Rating             Name      Distance     Bred Location  Age Novice  \\\n",
       "0       173    Al Boum Photo       Staying   French      IRE    8      N   \n",
       "1       173          Cyrname  Intermediate   French       UK    8      N   \n",
       "2       172          Santini       Staying  British       UK    8      N   \n",
       "3       172  Chacun Pour Soi       Minimum   French      IRE    8      N   \n",
       "4       171  Clan des Obeaux       Staying   French       UK    8      N   \n",
       "..      ...              ...           ...      ...      ...  ...    ...   \n",
       "108     152       Nube Negra       Minimum  Spanish       UK    6      Y   \n",
       "109     152        Sam Brown  Intermediate  British       UK    8      Y   \n",
       "110     152   Ordinary World       Minimum    Irish      IRE   10      N   \n",
       "111     152        Top Notch  Intermediate   French       UK    9      N   \n",
       "112     152    Wicklow Brave       Minimum  British      IRE   11      Y   \n",
       "\n",
       "      Sex  Retire  2020_#_Runs 2020_Distance  2020_Rating  \n",
       "0     Male    yes            5       Minimum          184  \n",
       "1     Male     no            5       Minimum          153  \n",
       "2    Male      no            3  Intermediate          173  \n",
       "3     Male    yes            3       Staying          182  \n",
       "4     Male    yes            2       Minimum          156  \n",
       "..     ...    ...          ...           ...          ...  \n",
       "108   Male    yes            4  Intermediate          152  \n",
       "109   Male    yes            6       Staying          147  \n",
       "110   Male     no            2  Intermediate          151  \n",
       "111   Male     no            5  Intermediate          141  \n",
       "112   Male    yes            3       Staying          171  \n",
       "\n",
       "[113 rows x 12 columns]"
      ]
     },
     "execution_count": 8,
     "metadata": {},
     "output_type": "execute_result"
    }
   ],
   "source": [
    "# df now includes original dataframe along with new columns and data\n",
    "df"
   ]
  },
  {
   "cell_type": "markdown",
   "metadata": {},
   "source": [
    "As you can now see, the 4 new columns are now part of the Dataframe.\n",
    "\n",
    "I used a simple function to randomly generate a yes/no field for the 'retire' column. The purpose of this is simply because the physique of a horse can be very complex and its very difficult to keep horses injury free but particularly this sport which involves jumping obstacles at speed.\n",
    "A number of those horses listed will retire due to injury, perhaps they may begin to no enjoy their job or in some cases it may be fatal. But to foresee that a horse will retire is impossible such is the random selection chosen.\n",
    "\n",
    "For the 2020_#_Runs\tcolumn, I used a distribution from the numpy.random package to take a positive integer around the figure selected which was 4. Its impossible to know for certain how many times a horse will run each year. Those who train them can be quite superstitious and will more often than not plan very similar to that of the past year depending on weather, track conditions and whether they had a good year or not. On average 4 runs each year would be on average, some more , some even less.\n",
    "\n",
    "For this new column, 2020_Distance, I used the choices available in the 'Distance column form the original dataset and randomly chose one of the available fields. Again, very few horses will run at one distance, yes they can prefer races over a certain distance but that does not mean that they are not effective over a variety of trips. It would be unlikely to see a horse vary between te minimum distance and the Staying distance but it has been done.\n",
    "\n",
    "2020_Rating, I used a numpy.random distribution to generate a number close to the value given in the Rating column but not necessrily too close to it. Again, this was appropriate as stated above, horses are rated after every race and ratings can fluctuate. This would be normal."
   ]
  },
  {
   "cell_type": "markdown",
   "metadata": {},
   "source": [
    "### Analysis\n",
    "***"
   ]
  },
  {
   "cell_type": "markdown",
   "metadata": {},
   "source": [
    "Pairplot is the introductory graph showing the variety in values across the four sections of data\n",
    "\n",
    "- Rating\n",
    "- Age\n",
    "- 2020_#_Runs\n",
    "- 2020 Rating"
   ]
  },
  {
   "cell_type": "code",
   "execution_count": 9,
   "metadata": {},
   "outputs": [
    {
     "data": {
      "text/plain": [
       "<seaborn.axisgrid.PairGrid at 0x2d8443ba040>"
      ]
     },
     "execution_count": 9,
     "metadata": {},
     "output_type": "execute_result"
    },
    {
     "data": {
      "image/png": "[encoded data removed]",
      "text/plain": [
       "<Figure size 720x720 with 20 Axes>"
      ]
     },
     "metadata": {
      "needs_background": "light"
     },
     "output_type": "display_data"
    }
   ],
   "source": [
    "sns.pairplot(df)"
   ]
  },
  {
   "cell_type": "markdown",
   "metadata": {},
   "source": [
    "Bar chart below show's the amount of horses bred in each country within the selected dataset.\n",
    "You can see that the level of Irish bred horses is highest with French bred next.\n",
    "A huge number of French horses are bought by owners/trainers each year to race in Ireland and England for National Hunt racing. This would be due to horses being suited by soft ground conditions and the training in France can often have young horses more forward in their development than in Ireland and England.\n",
    "Ireland would be one of the world's leading breeders of racehorses globally for both national hunt racing and flat racing."
   ]
  },
  {
   "cell_type": "code",
   "execution_count": 10,
   "metadata": {},
   "outputs": [
    {
     "data": {
      "text/plain": [
       "<matplotlib.axes._subplots.AxesSubplot at 0x2d84526e1c0>"
      ]
     },
     "execution_count": 10,
     "metadata": {},
     "output_type": "execute_result"
    },
    {
     "data": {
      "image/png": "[encoded data removed]",
      "text/plain": [
       "<Figure size 432x288 with 1 Axes>"
      ]
     },
     "metadata": {
      "needs_background": "light"
     },
     "output_type": "display_data"
    }
   ],
   "source": [
    "# Bar chart showing the amount of horses that were bred in each country\n",
    "# You can see that the level of Irish bred horses is highest with French bred next.\n",
    "\n",
    "sns.countplot(x = 'Bred', data=df)"
   ]
  },
  {
   "cell_type": "markdown",
   "metadata": {},
   "source": [
    "Countplot below simply highlights where the horses on the list are trained. As you can see, it is only Ireland and the UK represented here. This would be normal particularly for National Hunt racing. Occasionally, some representatives from France will appear but in the last number of years, all the best young horses are being bought to run in either Ireland or England."
   ]
  },
  {
   "cell_type": "code",
   "execution_count": 11,
   "metadata": {},
   "outputs": [
    {
     "data": {
      "text/plain": [
       "<matplotlib.axes._subplots.AxesSubplot at 0x2d8452d8a00>"
      ]
     },
     "execution_count": 11,
     "metadata": {},
     "output_type": "execute_result"
    },
    {
     "data": {
      "image/png": "[encoded data removed]",
      "text/plain": [
       "<Figure size 432x288 with 1 Axes>"
      ]
     },
     "metadata": {
      "needs_background": "light"
     },
     "output_type": "display_data"
    }
   ],
   "source": [
    "# The divide of where the top rated horses are trained\n",
    "sns.countplot(x = 'Location', data=df)"
   ]
  },
  {
   "cell_type": "markdown",
   "metadata": {},
   "source": [
    "This graph looks at the age profile of horses in the dataset. As you can see, age 8 is the most common age for horses in this dataset. That would be generally correct. There is nothing to say that the best horses are all older than 8 but in general horses would be seen in their prime between 7-9."
   ]
  },
  {
   "cell_type": "code",
   "execution_count": 12,
   "metadata": {},
   "outputs": [
    {
     "data": {
      "text/plain": [
       "<matplotlib.axes._subplots.AxesSubplot at 0x2d84557f8b0>"
      ]
     },
     "execution_count": 12,
     "metadata": {},
     "output_type": "execute_result"
    },
    {
     "data": {
      "image/png": "[encoded data removed]",
      "text/plain": [
       "<Figure size 432x288 with 1 Axes>"
      ]
     },
     "metadata": {
      "needs_background": "light"
     },
     "output_type": "display_data"
    }
   ],
   "source": [
    "# Graph showing the agr profile of the horses \n",
    "sns.countplot(x = 'Age', data=df)"
   ]
  },
  {
   "cell_type": "markdown",
   "metadata": {},
   "source": [
    "The next two graph's look at the number of horses running over each distance for 2019 and the second graph is the predicted number of horses running over the specific distance in 2020.\n",
    "\n",
    "**2019**\n",
    "As you can see, the numbers don't vary all that much. Between 35 and 40.\n",
    "***\n",
    "\n",
    "**2020**\n",
    "There is some differences and the amounts vary much more than in 2019. Range looks to be approx. 30 - 45"
   ]
  },
  {
   "cell_type": "code",
   "execution_count": 67,
   "metadata": {},
   "outputs": [
    {
     "data": {
      "text/plain": [
       "<matplotlib.axes._subplots.AxesSubplot at 0x2d846fe2d30>"
      ]
     },
     "execution_count": 67,
     "metadata": {},
     "output_type": "execute_result"
    },
    {
     "data": {
      "image/png": "[encoded data removed]",
      "text/plain": [
       "<Figure size 432x288 with 1 Axes>"
      ]
     },
     "metadata": {
      "needs_background": "light"
     },
     "output_type": "display_data"
    }
   ],
   "source": [
    "# 2019. Number of horses running over each distance\n",
    "sns.countplot(x = 'Distance', data=df)"
   ]
  },
  {
   "cell_type": "code",
   "execution_count": 68,
   "metadata": {},
   "outputs": [
    {
     "data": {
      "text/plain": [
       "<matplotlib.axes._subplots.AxesSubplot at 0x2d846d1c730>"
      ]
     },
     "execution_count": 68,
     "metadata": {},
     "output_type": "execute_result"
    },
    {
     "data": {
      "image/png": "[encoded data removed]",
      "text/plain": [
       "<Figure size 432x288 with 1 Axes>"
      ]
     },
     "metadata": {
      "needs_background": "light"
     },
     "output_type": "display_data"
    }
   ],
   "source": [
    "# predicted breakdown of the number of horses running in each distance for 2020\n",
    "\n",
    "sns.countplot(x = '2020_Distance', data=df)"
   ]
  },
  {
   "cell_type": "markdown",
   "metadata": {},
   "source": [
    "The next countplot looks at the number of horses to retire at the ned of the following year."
   ]
  },
  {
   "cell_type": "code",
   "execution_count": 15,
   "metadata": {},
   "outputs": [
    {
     "data": {
      "text/plain": [
       "<matplotlib.axes._subplots.AxesSubplot at 0x2d84569bb20>"
      ]
     },
     "execution_count": 15,
     "metadata": {},
     "output_type": "execute_result"
    },
    {
     "data": {
      "image/png": "[encoded data removed]",
      "text/plain": [
       "<Figure size 432x288 with 1 Axes>"
      ]
     },
     "metadata": {
      "needs_background": "light"
     },
     "output_type": "display_data"
    }
   ],
   "source": [
    "# number of horses to retire\n",
    "\n",
    "sns.countplot(x = 'Retire', data=df)"
   ]
  },
  {
   "cell_type": "markdown",
   "metadata": {},
   "source": [
    "This graph shows the number of horses that are Novice's. Every year horses will in the top 100+ Ratings that are novices. Life can become more challenging for horses coming out of novice company and taking on experienced older horses. It would be interesting to look into the novices named this year and analysis how many will remain in the list at the end of the coming year."
   ]
  },
  {
   "cell_type": "code",
   "execution_count": 16,
   "metadata": {},
   "outputs": [
    {
     "data": {
      "text/plain": [
       "<matplotlib.axes._subplots.AxesSubplot at 0x2d8456de790>"
      ]
     },
     "execution_count": 16,
     "metadata": {},
     "output_type": "execute_result"
    },
    {
     "data": {
      "image/png": "[encoded data removed]",
      "text/plain": [
       "<Figure size 432x288 with 1 Axes>"
      ]
     },
     "metadata": {
      "needs_background": "light"
     },
     "output_type": "display_data"
    }
   ],
   "source": [
    "sns.countplot(x = 'Novice', data=df)"
   ]
  },
  {
   "cell_type": "markdown",
   "metadata": {},
   "source": [
    "The scatter plot below takes 2 of the variables and plots them.\n",
    "The two variables are 'Rating' & '2020_Rating'.\n",
    "It gives you an idea how each horse is now rated and where it will be.\n",
    "Please note all horses on the dataset are taken into account and therefore no legend would be visually appealing due to the number of horses included.\n",
    "\n",
    "References\n",
    "***\n",
    "seaborn scatter plot showing the difference ratings between 2019 & 2020\n",
    "\n",
    "https://python-graph-gallery.com/340-scatterplot-animation/\n",
    "\n",
    "https://www.geeksforgeeks.org/scatterplot-using-seaborn-in-python/"
   ]
  },
  {
   "cell_type": "code",
   "execution_count": 17,
   "metadata": {},
   "outputs": [
    {
     "data": {
      "text/plain": [
       "<matplotlib.axes._subplots.AxesSubplot at 0x2d8457321c0>"
      ]
     },
     "execution_count": 17,
     "metadata": {},
     "output_type": "execute_result"
    },
    {
     "data": {
      "image/png": "[encoded data removed]",
      "text/plain": [
       "<Figure size 432x288 with 1 Axes>"
      ]
     },
     "metadata": {
      "needs_background": "light"
     },
     "output_type": "display_data"
    }
   ],
   "source": [
    "sns.scatterplot(x=df[\"Rating\"], y=df[\"2020_Rating\"])"
   ]
  },
  {
   "cell_type": "markdown",
   "metadata": {},
   "source": [
    "This pairplot takes the two variables 'age' and 'rating' and looks at the age profile of horses their corresponding current rating."
   ]
  },
  {
   "cell_type": "code",
   "execution_count": 18,
   "metadata": {},
   "outputs": [
    {
     "data": {
      "text/plain": [
       "<seaborn.axisgrid.PairGrid at 0x2d845732790>"
      ]
     },
     "execution_count": 18,
     "metadata": {},
     "output_type": "execute_result"
    },
    {
     "data": {
      "image/png": "[encoded data removed]",
      "text/plain": [
       "<Figure size 360x360 with 6 Axes>"
      ]
     },
     "metadata": {
      "needs_background": "light"
     },
     "output_type": "display_data"
    }
   ],
   "source": [
    "# Pairplot Age v Rating\n",
    "sns.pairplot(df, vars=[\"Age\", \"Rating\"])"
   ]
  },
  {
   "cell_type": "markdown",
   "metadata": {},
   "source": [
    "This pairplot takes the two variables '2020_#_Runs' and '2020_Rating' and looks at the number of races each horse will run their corresponding future rating."
   ]
  },
  {
   "cell_type": "code",
   "execution_count": 19,
   "metadata": {},
   "outputs": [
    {
     "data": {
      "text/plain": [
       "<seaborn.axisgrid.PairGrid at 0x2d84592cac0>"
      ]
     },
     "execution_count": 19,
     "metadata": {},
     "output_type": "execute_result"
    },
    {
     "data": {
      "image/png": "[encoded data removed]",
      "text/plain": [
       "<Figure size 360x360 with 6 Axes>"
      ]
     },
     "metadata": {
      "needs_background": "light"
     },
     "output_type": "display_data"
    }
   ],
   "source": [
    "# Number of runs v Rating in 2020\n",
    "sns.pairplot(df, vars=[\"2020_#_Runs\", \"2020_Rating\"])"
   ]
  },
  {
   "cell_type": "markdown",
   "metadata": {},
   "source": [
    "This plot below takes a random selection from the dataset and shows exactly the rating difference between both years by making it clear within a graph.\n",
    "\n",
    "\n",
    "References\n",
    "***\n",
    "https://www.geeksforgeeks.org/how-to-randomly-select-rows-from-pandas-dataframe/"
   ]
  },
  {
   "cell_type": "code",
   "execution_count": 55,
   "metadata": {},
   "outputs": [
    {
     "name": "stdout",
     "output_type": "stream",
     "text": [
      "     Rating               Name    Bred Location  Age  2020_#_Runs  2020_Rating\n",
      "44      160       Minella Indo  French      IRE    7            3          179\n",
      "57      158      Peregrine Run   Irish      IRE   10            4          148\n",
      "67      156   Diego du Charmil  French       UK    8            3          154\n",
      "103     152  Castlegrace Paddy   Irish      IRE    9            0          163\n"
     ]
    },
    {
     "data": {
      "image/png": "[encoded data removed]",
      "text/plain": [
       "<Figure size 488.75x360 with 1 Axes>"
      ]
     },
     "metadata": {
      "needs_background": "light"
     },
     "output_type": "display_data"
    }
   ],
   "source": [
    "# create new df using all rows and a select number of columns using the iloc function\n",
    "df1= df.iloc[0:113,[0,1,3,4,5,9,11]]\n",
    "\n",
    "# rename the new df and the sample number\n",
    "x = df1.sample(n=4)\n",
    "\n",
    "plot the following variables including legend\n",
    "sns.relplot(x=\"2020_Rating\", y=\"Rating\",hue ='Name', data=x)\n",
    "\n",
    "print(x)\n",
    "\n",
    "plt.show()"
   ]
  },
  {
   "cell_type": "markdown",
   "metadata": {},
   "source": [
    "Similar to the above plot and df, this takes the 5 highest rated horses on the list and plots the different ratings \n",
    "\n",
    "Reference\n",
    "***\n",
    "https://pbpython.com/selecting-columns.html"
   ]
  },
  {
   "cell_type": "code",
   "execution_count": 31,
   "metadata": {},
   "outputs": [
    {
     "name": "stdout",
     "output_type": "stream",
     "text": [
      "   Rating             Name  2020_Rating\n",
      "0     173    Al Boum Photo          184\n",
      "1     173          Cyrname          153\n",
      "2     172          Santini          173\n",
      "3     172  Chacun Pour Soi          182\n",
      "4     171  Clan des Obeaux          156\n"
     ]
    },
    {
     "data": {
      "image/png": "[encoded data removed]",
      "text/plain": [
       "<Figure size 480.75x360 with 1 Axes>"
      ]
     },
     "metadata": {
      "needs_background": "light"
     },
     "output_type": "display_data"
    }
   ],
   "source": [
    "# creating a new df for the purpose of the analysis.\n",
    "# using 3 columns and all the first 5 rows\n",
    "df.iloc[0:5, [0,1,11]]\n",
    "\n",
    "# plotting the variables\n",
    "sns.relplot(x=\"2020_Rating\", y=\"Rating\",hue ='Name', data=df.iloc[0:5, [0,1,11]])\n",
    "print(df.iloc[0:5, [0,1,11]])\n",
    "plt.show()"
   ]
  }
 ],
 "metadata": {
  "kernelspec": {
   "display_name": "Python 3",
   "language": "python",
   "name": "python3"
  },
  "language_info": {
   "codemirror_mode": {
    "name": "ipython",
    "version": 3
   },
   "file_extension": ".py",
   "mimetype": "text/x-python",
   "name": "python",
   "nbconvert_exporter": "python",
   "pygments_lexer": "ipython3",
   "version": "3.8.3"
  }
 },
 "nbformat": 4,
 "nbformat_minor": 4
}
