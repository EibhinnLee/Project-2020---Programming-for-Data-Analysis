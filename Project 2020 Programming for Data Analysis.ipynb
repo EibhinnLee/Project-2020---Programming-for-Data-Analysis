{
 "cells": [
  {
   "cell_type": "markdown",
   "metadata": {},
   "source": [
    "# Project 2020\n",
    "## Programming for Data Analysis\n",
    "***\n",
    "### Eibhinn Lee\n",
    "### G00226502\n",
    "***"
   ]
  },
  {
   "cell_type": "markdown",
   "metadata": {},
   "source": [
    "#### Problem statement\n",
    "Create a data set by simulating a real-world phenomenon of your choosing.\n",
    "Use the numpy.random package to model and synthesise such data using Python.\n",
    "\n",
    "Specifically, in this project you should:\n",
    "• Choose a real-world phenomenon that can be measured and for which you could\n",
    "collect at least one-hundred data points across at least four different variables.\n",
    "• Investigate the types of variables involved, their likely distributions, and their\n",
    "relationships with each other.\n",
    "• Synthesise/simulate a data set as closely matching their properties as possible.\n",
    "• Detail your research and implement the simulation in a Jupyter notebook – the\n",
    "data set itself can simply be displayed in an output cell within the notebook.\n",
    "\n",
    "Note that this project is about simulation – you must synthesise a data set. Some\n",
    "students may already have some real-world data sets in their own files. It is okay to\n",
    "base your synthesised data set on these should you wish (please reference it if you do),\n",
    "but the main task in this project is to create a synthesised data set. The next section\n",
    "gives an example project idea.\n"
   ]
  },
  {
   "cell_type": "markdown",
   "metadata": {},
   "source": [
    "https://medium.com/@ingeh/markdown-for-jupyter-notebooks-cheatsheet-386c05aeebed\n",
    "\n",
    "### Dataset Info\n",
    "***\n",
    "For the purpose of the project, I manually create a dataset relating to horse racing.\n",
    "To delve deeper, I created a dataset using the top 112 Steeplechasers rated from the 2019-2020 season.\n",
    "This information can be found at the following URL with information solely taken from page 2.\n",
    "https://support.racingadmin.co.uk/opencms/export/sites/weatherbys/racing-admin-support/.galleries/racing-admin-downloads/anglo-irish-jump-classification.pdf\n",
    "\n",
    "The rationale behind creating this dataset was two-fold, 1) I'm interested in the sport and 2) I can randomly generate data closely related to the initial dataframe that I created.\n",
    "\n",
    "#### Variables used and explained\n",
    "***\n",
    "Rating - Each racehorse that runs under the rules of racing will get a rating. If a horse has not run yet in its life, it will be restricted to certain races that will be under the same conditions for each horse until it has received a rating. Each jursdiction both sides of the Irish sea employ a team of people known as 'handicappers' who review, analyse and set ratings for racehorses. Generally, ratings are choosen by how each horse has run, the race type in ran in, the class of race, the time of the race along with other factors.\n",
    "\n",
    "Name - Every horse is named and registered with the regulatory body. Every horse has a passport to distinguish exactly is the correct horse present on the day of the race.\n",
    "\n",
    "Distance - for the dataset, I decided to classify this variable into three as given by the \"ANGLO-IRISH STEEPLECHASE CLASSIFICATION\". In the classification, the three groups are:\n",
    "- 2 miles 7f+ \n",
    "- 2 miles 3f to 2 miles 6.5f\n",
    "- 2 miles to 2 miles 2.5f\n",
    "\n",
    "For my dataset, I simply used:\n",
    "- Staying (2 miles 7f+)\n",
    "- Intermediate (2 miles 3f to 2 miles 6.5f)\n",
    "- Minimum (2 miles to 2 miles 2.5f)\n",
    "\n",
    "Bred - Is a straightforward variable indicating what country the horse was bred. For official purposes, this is generally provided at the end of the horses name e.g 'FR', 'GB', 'IRE'\n",
    "\n",
    "Location - is a variable I came up with to describe where the horse is trained\n",
    "\n",
    "Age - age of the horse at the time of the project. All horses will offically be 1 year older on 1st January day regardless of the month they were born.\n",
    "\n",
    "Novice -  novice is a term used to describe a horse in its first year at a discipline. In the case of the dataset, all are under the same discipline which is Steeplechase. But other disciplines are 'flat' and 'hurdles'. Generally speaking but not always the case, horses progress from flat to hurdles to steeplechases and the first year in each discipline they will be classified as a novice.\n",
    "\n",
    "Sex - male or female."
   ]
  },
  {
   "cell_type": "markdown",
   "metadata": {},
   "source": [
    "### Import Libraries required."
   ]
  },
  {
   "cell_type": "code",
   "execution_count": 1,
   "metadata": {},
   "outputs": [],
   "source": [
    "%matplotlib inline"
   ]
  },
  {
   "cell_type": "code",
   "execution_count": 2,
   "metadata": {},
   "outputs": [],
   "source": [
    "import numpy as np\n",
    "import pandas as pd\n",
    "import seaborn as sns\n",
    "import matplotlib.pyplot as plt"
   ]
  },
  {
   "cell_type": "markdown",
   "metadata": {},
   "source": [
    "### Dataset"
   ]
  },
  {
   "cell_type": "code",
   "execution_count": 118,
   "metadata": {},
   "outputs": [
    {
     "data": {
      "text/html": [
       "<div>\n",
       "<style scoped>\n",
       "    .dataframe tbody tr th:only-of-type {\n",
       "        vertical-align: middle;\n",
       "    }\n",
       "\n",
       "    .dataframe tbody tr th {\n",
       "        vertical-align: top;\n",
       "    }\n",
       "\n",
       "    .dataframe thead th {\n",
       "        text-align: right;\n",
       "    }\n",
       "</style>\n",
       "<table border=\"1\" class=\"dataframe\">\n",
       "  <thead>\n",
       "    <tr style=\"text-align: right;\">\n",
       "      <th></th>\n",
       "      <th>Rating</th>\n",
       "      <th>Name</th>\n",
       "      <th>Distance</th>\n",
       "      <th>Bred</th>\n",
       "      <th>Location</th>\n",
       "      <th>Age</th>\n",
       "      <th>Novice</th>\n",
       "      <th>Sex</th>\n",
       "    </tr>\n",
       "  </thead>\n",
       "  <tbody>\n",
       "    <tr>\n",
       "      <th>0</th>\n",
       "      <td>173</td>\n",
       "      <td>Al Boum Photo</td>\n",
       "      <td>Staying</td>\n",
       "      <td>French</td>\n",
       "      <td>IRE</td>\n",
       "      <td>8</td>\n",
       "      <td>N</td>\n",
       "      <td>Male</td>\n",
       "    </tr>\n",
       "    <tr>\n",
       "      <th>1</th>\n",
       "      <td>173</td>\n",
       "      <td>Cyrname</td>\n",
       "      <td>Intermediate</td>\n",
       "      <td>French</td>\n",
       "      <td>UK</td>\n",
       "      <td>8</td>\n",
       "      <td>N</td>\n",
       "      <td>Male</td>\n",
       "    </tr>\n",
       "    <tr>\n",
       "      <th>2</th>\n",
       "      <td>172</td>\n",
       "      <td>Santini</td>\n",
       "      <td>Staying</td>\n",
       "      <td>British</td>\n",
       "      <td>UK</td>\n",
       "      <td>8</td>\n",
       "      <td>N</td>\n",
       "      <td>Male</td>\n",
       "    </tr>\n",
       "    <tr>\n",
       "      <th>3</th>\n",
       "      <td>172</td>\n",
       "      <td>Chacun Pour Soi</td>\n",
       "      <td>Minimum</td>\n",
       "      <td>French</td>\n",
       "      <td>IRE</td>\n",
       "      <td>8</td>\n",
       "      <td>N</td>\n",
       "      <td>Male</td>\n",
       "    </tr>\n",
       "    <tr>\n",
       "      <th>4</th>\n",
       "      <td>171</td>\n",
       "      <td>Clan des Obeaux</td>\n",
       "      <td>Staying</td>\n",
       "      <td>French</td>\n",
       "      <td>UK</td>\n",
       "      <td>8</td>\n",
       "      <td>N</td>\n",
       "      <td>Male</td>\n",
       "    </tr>\n",
       "    <tr>\n",
       "      <th>...</th>\n",
       "      <td>...</td>\n",
       "      <td>...</td>\n",
       "      <td>...</td>\n",
       "      <td>...</td>\n",
       "      <td>...</td>\n",
       "      <td>...</td>\n",
       "      <td>...</td>\n",
       "      <td>...</td>\n",
       "    </tr>\n",
       "    <tr>\n",
       "      <th>108</th>\n",
       "      <td>152</td>\n",
       "      <td>Nube Negra</td>\n",
       "      <td>Minimum</td>\n",
       "      <td>Spainish</td>\n",
       "      <td>UK</td>\n",
       "      <td>6</td>\n",
       "      <td>Y</td>\n",
       "      <td>Male</td>\n",
       "    </tr>\n",
       "    <tr>\n",
       "      <th>109</th>\n",
       "      <td>152</td>\n",
       "      <td>Sam Brown</td>\n",
       "      <td>Intermediate</td>\n",
       "      <td>British</td>\n",
       "      <td>UK</td>\n",
       "      <td>8</td>\n",
       "      <td>Y</td>\n",
       "      <td>Male</td>\n",
       "    </tr>\n",
       "    <tr>\n",
       "      <th>110</th>\n",
       "      <td>152</td>\n",
       "      <td>Ordinary World</td>\n",
       "      <td>Minimum</td>\n",
       "      <td>Irish</td>\n",
       "      <td>IRE</td>\n",
       "      <td>10</td>\n",
       "      <td>N</td>\n",
       "      <td>Male</td>\n",
       "    </tr>\n",
       "    <tr>\n",
       "      <th>111</th>\n",
       "      <td>152</td>\n",
       "      <td>Top Notch</td>\n",
       "      <td>Intermediate</td>\n",
       "      <td>French</td>\n",
       "      <td>UK</td>\n",
       "      <td>9</td>\n",
       "      <td>N</td>\n",
       "      <td>Male</td>\n",
       "    </tr>\n",
       "    <tr>\n",
       "      <th>112</th>\n",
       "      <td>152</td>\n",
       "      <td>Wicklow Brave</td>\n",
       "      <td>Minimum</td>\n",
       "      <td>British</td>\n",
       "      <td>IRE</td>\n",
       "      <td>11</td>\n",
       "      <td>Y</td>\n",
       "      <td>Male</td>\n",
       "    </tr>\n",
       "  </tbody>\n",
       "</table>\n",
       "<p>113 rows × 8 columns</p>\n",
       "</div>"
      ],
      "text/plain": [
       "     Rating             Name      Distance      Bred Location  Age Novice  \\\n",
       "0       173    Al Boum Photo       Staying    French      IRE    8      N   \n",
       "1       173          Cyrname  Intermediate    French       UK    8      N   \n",
       "2       172          Santini       Staying   British       UK    8      N   \n",
       "3       172  Chacun Pour Soi       Minimum    French      IRE    8      N   \n",
       "4       171  Clan des Obeaux       Staying    French       UK    8      N   \n",
       "..      ...              ...           ...       ...      ...  ...    ...   \n",
       "108     152       Nube Negra       Minimum  Spainish       UK    6      Y   \n",
       "109     152        Sam Brown  Intermediate   British       UK    8      Y   \n",
       "110     152   Ordinary World       Minimum     Irish      IRE   10      N   \n",
       "111     152        Top Notch  Intermediate    French       UK    9      N   \n",
       "112     152    Wicklow Brave       Minimum   British      IRE   11      Y   \n",
       "\n",
       "      Sex   \n",
       "0     Male  \n",
       "1     Male  \n",
       "2    Male   \n",
       "3     Male  \n",
       "4     Male  \n",
       "..     ...  \n",
       "108   Male  \n",
       "109   Male  \n",
       "110   Male  \n",
       "111   Male  \n",
       "112   Male  \n",
       "\n",
       "[113 rows x 8 columns]"
      ]
     },
     "execution_count": 118,
     "metadata": {},
     "output_type": "execute_result"
    }
   ],
   "source": [
    "# Using pandas to import dataframe as a csv\n",
    "# dataset saved to github\n",
    "# https://www.geeksforgeeks.org/python-pandas-dataframe-set_index/\n",
    "\n",
    "df = pd.read_csv(\"https://raw.githubusercontent.com/EibhinnLee/Project-2020---Programming-for-Data-Analysis/main/Horses_Dataset_Project2020.txt\")\n",
    "#df.set_index(\"Name\", inplace = True)\n",
    "df"
   ]
  },
  {
   "cell_type": "markdown",
   "metadata": {},
   "source": [
    "https://www.geeksforgeeks.org/python-pandas-dataframe-set_index/\n",
    "\n",
    "https://web.microsoftstream.com/video/db8801fe-9e42-4663-a508-5d6f38bb7327\n",
    "\n"
   ]
  },
  {
   "cell_type": "markdown",
   "metadata": {},
   "source": [
    "https://www.geeksforgeeks.org/how-to-add-empty-column-to-dataframe-in-pandas/\n",
    "\n",
    "Adding new columns to original dataframe"
   ]
  },
  {
   "cell_type": "markdown",
   "metadata": {},
   "source": [
    "https://stackoverflow.com/questions/29517072/add-column-to-dataframe-with-constant-value\n",
    "\n",
    "Adding column with data to dataframe"
   ]
  },
  {
   "cell_type": "markdown",
   "metadata": {},
   "source": [
    "Adding 4 new columns to the orginal Dataset.\n",
    "They are as follows:\n",
    "- Retire - Will the horse be retired at the end of the year.\n",
    "- 2020_#_Runs - How many times will the horse run in the coming season\n",
    "- 2020_Distance - Will the horse run over the same or different distances this season\n",
    "- 2020_Rating - What will the rating of the horse be by the end of the upcoming season.\n",
    "\n",
    "\n",
    "\n",
    "\n",
    "\n",
    "\n",
    "https://numpy.org/doc/stable/reference/random/generated/numpy.random.poisson.html\n"
   ]
  },
  {
   "cell_type": "code",
   "execution_count": 119,
   "metadata": {},
   "outputs": [],
   "source": [
    "# Adding a new column with data to original dataframe.\n",
    "# results i expect are a simple 'yes' or 'no' value.\n",
    "\n",
    "# creating a list of the values.\n",
    "a = [\"yes\",\"no\"]\n",
    "\n",
    "# using the numpy.random package to randomly choose whether or not the horse will retire by the end of the upcoming season.\n",
    "df['Retire'] = np.random.choice(a, len(df))"
   ]
  },
  {
   "cell_type": "code",
   "execution_count": 120,
   "metadata": {},
   "outputs": [],
   "source": [
    "# Adding a second new column with data to original dataframe.\n",
    "# results will vary with an expectation value of 4 which would be about average for the number of races a horse whould run in.\n",
    "# This numpy.random function allows this to show that not every horse will run that many times or will in fact run more times.\n",
    "\n",
    "# using the numpy.random.poisson function to randomly show the varying integer in and around the expectation value of 4.\n",
    "df['2020_#_Runs'] = np.random.poisson(4, len(df))"
   ]
  },
  {
   "cell_type": "code",
   "execution_count": 121,
   "metadata": {},
   "outputs": [],
   "source": [
    "# Adding a third new column with data to original dataframe.\n",
    "# results expected are from data within the orginal dataframe imported by pandas.\n",
    "# This will distinguish whether a horse will maintain the distance for the coming season or will be revert to a different distance.\n",
    "\n",
    "# list containg the three values\n",
    "b = [\"Staying\", \"Intermediate\", \"Minimum\"]\n",
    "\n",
    "# using the numpy.random package to randomly choose whether the horse will remain or change distance.\n",
    "df['2020_Distance'] = np.random.choice(b, len(df))"
   ]
  },
  {
   "cell_type": "markdown",
   "metadata": {},
   "source": [
    "https://www.geeksforgeeks.org/create-a-new-column-in-pandas-dataframe-based-on-the-existing-columns/?ref=rp"
   ]
  },
  {
   "cell_type": "code",
   "execution_count": 122,
   "metadata": {},
   "outputs": [],
   "source": [
    "# Adding a forth new column with data to original dataframe.\n",
    "# using the numpy.random.poisson function\n",
    "# the function will take the value in the Rating colum as N and apply the function to generate a new value\n",
    "# the new value generated will be the rating the horse will receive at the end of the upcoming season.\n",
    "\n",
    "\n",
    "df['2020_Rating'] = np.random.poisson(df['Rating'], len(df))"
   ]
  },
  {
   "cell_type": "code",
   "execution_count": 124,
   "metadata": {
    "scrolled": true
   },
   "outputs": [
    {
     "data": {
      "text/html": [
       "<div>\n",
       "<style scoped>\n",
       "    .dataframe tbody tr th:only-of-type {\n",
       "        vertical-align: middle;\n",
       "    }\n",
       "\n",
       "    .dataframe tbody tr th {\n",
       "        vertical-align: top;\n",
       "    }\n",
       "\n",
       "    .dataframe thead th {\n",
       "        text-align: right;\n",
       "    }\n",
       "</style>\n",
       "<table border=\"1\" class=\"dataframe\">\n",
       "  <thead>\n",
       "    <tr style=\"text-align: right;\">\n",
       "      <th></th>\n",
       "      <th>Rating</th>\n",
       "      <th>Name</th>\n",
       "      <th>Distance</th>\n",
       "      <th>Bred</th>\n",
       "      <th>Location</th>\n",
       "      <th>Age</th>\n",
       "      <th>Novice</th>\n",
       "      <th>Sex</th>\n",
       "      <th>Retire</th>\n",
       "      <th>2020_#_Runs</th>\n",
       "      <th>2020_Distance</th>\n",
       "      <th>2020_Rating</th>\n",
       "    </tr>\n",
       "  </thead>\n",
       "  <tbody>\n",
       "    <tr>\n",
       "      <th>0</th>\n",
       "      <td>173</td>\n",
       "      <td>Al Boum Photo</td>\n",
       "      <td>Staying</td>\n",
       "      <td>French</td>\n",
       "      <td>IRE</td>\n",
       "      <td>8</td>\n",
       "      <td>N</td>\n",
       "      <td>Male</td>\n",
       "      <td>yes</td>\n",
       "      <td>4</td>\n",
       "      <td>Minimum</td>\n",
       "      <td>171</td>\n",
       "    </tr>\n",
       "    <tr>\n",
       "      <th>1</th>\n",
       "      <td>173</td>\n",
       "      <td>Cyrname</td>\n",
       "      <td>Intermediate</td>\n",
       "      <td>French</td>\n",
       "      <td>UK</td>\n",
       "      <td>8</td>\n",
       "      <td>N</td>\n",
       "      <td>Male</td>\n",
       "      <td>no</td>\n",
       "      <td>5</td>\n",
       "      <td>Staying</td>\n",
       "      <td>166</td>\n",
       "    </tr>\n",
       "    <tr>\n",
       "      <th>2</th>\n",
       "      <td>172</td>\n",
       "      <td>Santini</td>\n",
       "      <td>Staying</td>\n",
       "      <td>British</td>\n",
       "      <td>UK</td>\n",
       "      <td>8</td>\n",
       "      <td>N</td>\n",
       "      <td>Male</td>\n",
       "      <td>no</td>\n",
       "      <td>6</td>\n",
       "      <td>Intermediate</td>\n",
       "      <td>148</td>\n",
       "    </tr>\n",
       "    <tr>\n",
       "      <th>3</th>\n",
       "      <td>172</td>\n",
       "      <td>Chacun Pour Soi</td>\n",
       "      <td>Minimum</td>\n",
       "      <td>French</td>\n",
       "      <td>IRE</td>\n",
       "      <td>8</td>\n",
       "      <td>N</td>\n",
       "      <td>Male</td>\n",
       "      <td>yes</td>\n",
       "      <td>3</td>\n",
       "      <td>Intermediate</td>\n",
       "      <td>154</td>\n",
       "    </tr>\n",
       "    <tr>\n",
       "      <th>4</th>\n",
       "      <td>171</td>\n",
       "      <td>Clan des Obeaux</td>\n",
       "      <td>Staying</td>\n",
       "      <td>French</td>\n",
       "      <td>UK</td>\n",
       "      <td>8</td>\n",
       "      <td>N</td>\n",
       "      <td>Male</td>\n",
       "      <td>no</td>\n",
       "      <td>5</td>\n",
       "      <td>Minimum</td>\n",
       "      <td>194</td>\n",
       "    </tr>\n",
       "    <tr>\n",
       "      <th>...</th>\n",
       "      <td>...</td>\n",
       "      <td>...</td>\n",
       "      <td>...</td>\n",
       "      <td>...</td>\n",
       "      <td>...</td>\n",
       "      <td>...</td>\n",
       "      <td>...</td>\n",
       "      <td>...</td>\n",
       "      <td>...</td>\n",
       "      <td>...</td>\n",
       "      <td>...</td>\n",
       "      <td>...</td>\n",
       "    </tr>\n",
       "    <tr>\n",
       "      <th>108</th>\n",
       "      <td>152</td>\n",
       "      <td>Nube Negra</td>\n",
       "      <td>Minimum</td>\n",
       "      <td>Spainish</td>\n",
       "      <td>UK</td>\n",
       "      <td>6</td>\n",
       "      <td>Y</td>\n",
       "      <td>Male</td>\n",
       "      <td>yes</td>\n",
       "      <td>3</td>\n",
       "      <td>Staying</td>\n",
       "      <td>131</td>\n",
       "    </tr>\n",
       "    <tr>\n",
       "      <th>109</th>\n",
       "      <td>152</td>\n",
       "      <td>Sam Brown</td>\n",
       "      <td>Intermediate</td>\n",
       "      <td>British</td>\n",
       "      <td>UK</td>\n",
       "      <td>8</td>\n",
       "      <td>Y</td>\n",
       "      <td>Male</td>\n",
       "      <td>no</td>\n",
       "      <td>1</td>\n",
       "      <td>Staying</td>\n",
       "      <td>153</td>\n",
       "    </tr>\n",
       "    <tr>\n",
       "      <th>110</th>\n",
       "      <td>152</td>\n",
       "      <td>Ordinary World</td>\n",
       "      <td>Minimum</td>\n",
       "      <td>Irish</td>\n",
       "      <td>IRE</td>\n",
       "      <td>10</td>\n",
       "      <td>N</td>\n",
       "      <td>Male</td>\n",
       "      <td>yes</td>\n",
       "      <td>4</td>\n",
       "      <td>Intermediate</td>\n",
       "      <td>168</td>\n",
       "    </tr>\n",
       "    <tr>\n",
       "      <th>111</th>\n",
       "      <td>152</td>\n",
       "      <td>Top Notch</td>\n",
       "      <td>Intermediate</td>\n",
       "      <td>French</td>\n",
       "      <td>UK</td>\n",
       "      <td>9</td>\n",
       "      <td>N</td>\n",
       "      <td>Male</td>\n",
       "      <td>yes</td>\n",
       "      <td>6</td>\n",
       "      <td>Intermediate</td>\n",
       "      <td>133</td>\n",
       "    </tr>\n",
       "    <tr>\n",
       "      <th>112</th>\n",
       "      <td>152</td>\n",
       "      <td>Wicklow Brave</td>\n",
       "      <td>Minimum</td>\n",
       "      <td>British</td>\n",
       "      <td>IRE</td>\n",
       "      <td>11</td>\n",
       "      <td>Y</td>\n",
       "      <td>Male</td>\n",
       "      <td>no</td>\n",
       "      <td>4</td>\n",
       "      <td>Staying</td>\n",
       "      <td>147</td>\n",
       "    </tr>\n",
       "  </tbody>\n",
       "</table>\n",
       "<p>113 rows × 12 columns</p>\n",
       "</div>"
      ],
      "text/plain": [
       "     Rating             Name      Distance      Bred Location  Age Novice  \\\n",
       "0       173    Al Boum Photo       Staying    French      IRE    8      N   \n",
       "1       173          Cyrname  Intermediate    French       UK    8      N   \n",
       "2       172          Santini       Staying   British       UK    8      N   \n",
       "3       172  Chacun Pour Soi       Minimum    French      IRE    8      N   \n",
       "4       171  Clan des Obeaux       Staying    French       UK    8      N   \n",
       "..      ...              ...           ...       ...      ...  ...    ...   \n",
       "108     152       Nube Negra       Minimum  Spainish       UK    6      Y   \n",
       "109     152        Sam Brown  Intermediate   British       UK    8      Y   \n",
       "110     152   Ordinary World       Minimum     Irish      IRE   10      N   \n",
       "111     152        Top Notch  Intermediate    French       UK    9      N   \n",
       "112     152    Wicklow Brave       Minimum   British      IRE   11      Y   \n",
       "\n",
       "      Sex  Retire  2020_#_Runs 2020_Distance  2020_Rating  \n",
       "0     Male    yes            4       Minimum          171  \n",
       "1     Male     no            5       Staying          166  \n",
       "2    Male      no            6  Intermediate          148  \n",
       "3     Male    yes            3  Intermediate          154  \n",
       "4     Male     no            5       Minimum          194  \n",
       "..     ...    ...          ...           ...          ...  \n",
       "108   Male    yes            3       Staying          131  \n",
       "109   Male     no            1       Staying          153  \n",
       "110   Male    yes            4  Intermediate          168  \n",
       "111   Male    yes            6  Intermediate          133  \n",
       "112   Male     no            4       Staying          147  \n",
       "\n",
       "[113 rows x 12 columns]"
      ]
     },
     "execution_count": 124,
     "metadata": {},
     "output_type": "execute_result"
    }
   ],
   "source": [
    "# df now includes original dataframe along with new columns and data\n",
    "df"
   ]
  },
  {
   "cell_type": "code",
   "execution_count": 125,
   "metadata": {},
   "outputs": [
    {
     "data": {
      "text/plain": [
       "<seaborn.axisgrid.PairGrid at 0x12a1ec3a700>"
      ]
     },
     "execution_count": 125,
     "metadata": {},
     "output_type": "execute_result"
    },
    {
     "data": {
      "image/png": "[encoded data removed]",
      "text/plain": [
       "<Figure size 720x720 with 20 Axes>"
      ]
     },
     "metadata": {
      "needs_background": "light"
     },
     "output_type": "display_data"
    }
   ],
   "source": [
    "sns.pairplot(df)"
   ]
  },
  {
   "cell_type": "code",
   "execution_count": 126,
   "metadata": {},
   "outputs": [
    {
     "data": {
      "text/plain": [
       "<matplotlib.axes._subplots.AxesSubplot at 0x12a1d51cca0>"
      ]
     },
     "execution_count": 126,
     "metadata": {},
     "output_type": "execute_result"
    },
    {
     "data": {
      "image/png": "[encoded data removed]",
      "text/plain": [
       "<Figure size 432x288 with 1 Axes>"
      ]
     },
     "metadata": {
      "needs_background": "light"
     },
     "output_type": "display_data"
    }
   ],
   "source": [
    "# Bar chart showing the amount of horses that were bred in each country\n",
    "# You can see that the level of Irish bred horses is highest with French bred next.\n",
    "\n",
    "sns.countplot(x = 'Bred', data=df)"
   ]
  },
  {
   "cell_type": "code",
   "execution_count": 127,
   "metadata": {},
   "outputs": [
    {
     "data": {
      "text/plain": [
       "<matplotlib.axes._subplots.AxesSubplot at 0x12a1eb48460>"
      ]
     },
     "execution_count": 127,
     "metadata": {},
     "output_type": "execute_result"
    },
    {
     "data": {
      "image/png": "[encoded data removed]",
      "text/plain": [
       "<Figure size 432x288 with 1 Axes>"
      ]
     },
     "metadata": {
      "needs_background": "light"
     },
     "output_type": "display_data"
    }
   ],
   "source": [
    "# The divide of where the top rated horses are trained\n",
    "sns.countplot(x = 'Location', data=df)"
   ]
  },
  {
   "cell_type": "code",
   "execution_count": 128,
   "metadata": {},
   "outputs": [
    {
     "data": {
      "text/plain": [
       "<matplotlib.axes._subplots.AxesSubplot at 0x12a1d843ac0>"
      ]
     },
     "execution_count": 128,
     "metadata": {},
     "output_type": "execute_result"
    },
    {
     "data": {
      "image/png": "[encoded data removed]",
      "text/plain": [
       "<Figure size 432x288 with 1 Axes>"
      ]
     },
     "metadata": {
      "needs_background": "light"
     },
     "output_type": "display_data"
    }
   ],
   "source": [
    "# Graph showing the agr profile of the horses \n",
    "sns.countplot(x = 'Age', data=df)"
   ]
  },
  {
   "cell_type": "code",
   "execution_count": 129,
   "metadata": {},
   "outputs": [
    {
     "data": {
      "text/plain": [
       "<matplotlib.axes._subplots.AxesSubplot at 0x12a1d7cdb80>"
      ]
     },
     "execution_count": 129,
     "metadata": {},
     "output_type": "execute_result"
    },
    {
     "data": {
      "image/png": "[encoded data removed]",
      "text/plain": [
       "<Figure size 432x288 with 1 Axes>"
      ]
     },
     "metadata": {
      "needs_background": "light"
     },
     "output_type": "display_data"
    }
   ],
   "source": [
    "# predicted breakdown of the number of horses running in each distance for 2020\n",
    "sns.countplot(x = '2020_Distance', data=df)"
   ]
  },
  {
   "cell_type": "code",
   "execution_count": 130,
   "metadata": {},
   "outputs": [
    {
     "data": {
      "text/plain": [
       "<matplotlib.axes._subplots.AxesSubplot at 0x12a1eac4820>"
      ]
     },
     "execution_count": 130,
     "metadata": {},
     "output_type": "execute_result"
    },
    {
     "data": {
      "image/png": "[encoded data removed]",
      "text/plain": [
       "<Figure size 432x288 with 1 Axes>"
      ]
     },
     "metadata": {
      "needs_background": "light"
     },
     "output_type": "display_data"
    }
   ],
   "source": [
    "# a = sns.countplot(x = 'Distance', data=df)\n",
    "sns.countplot(x = 'Distance', data=df)\n"
   ]
  },
  {
   "cell_type": "code",
   "execution_count": 131,
   "metadata": {},
   "outputs": [
    {
     "data": {
      "text/plain": [
       "<matplotlib.axes._subplots.AxesSubplot at 0x12a1f28ecd0>"
      ]
     },
     "execution_count": 131,
     "metadata": {},
     "output_type": "execute_result"
    },
    {
     "data": {
      "image/png": "[encoded data removed]",
      "text/plain": [
       "<Figure size 432x288 with 1 Axes>"
      ]
     },
     "metadata": {
      "needs_background": "light"
     },
     "output_type": "display_data"
    }
   ],
   "source": [
    "# number of horses to retire\n",
    "\n",
    "sns.countplot(x = 'Retire', data=df)"
   ]
  },
  {
   "cell_type": "code",
   "execution_count": 132,
   "metadata": {},
   "outputs": [
    {
     "data": {
      "text/plain": [
       "<matplotlib.axes._subplots.AxesSubplot at 0x12a1f2c8490>"
      ]
     },
     "execution_count": 132,
     "metadata": {},
     "output_type": "execute_result"
    },
    {
     "data": {
      "image/png": "[encoded data removed]",
      "text/plain": [
       "<Figure size 432x288 with 1 Axes>"
      ]
     },
     "metadata": {
      "needs_background": "light"
     },
     "output_type": "display_data"
    }
   ],
   "source": [
    "# need to review amounts !!!!!!!!!!\n",
    "sns.countplot(x = 'Novice', data=df)"
   ]
  },
  {
   "cell_type": "code",
   "execution_count": 102,
   "metadata": {},
   "outputs": [
    {
     "ename": "ValueError",
     "evalue": "Could not interpret input 'Sex'",
     "output_type": "error",
     "traceback": [
      "\u001b[1;31m---------------------------------------------------------------------------\u001b[0m",
      "\u001b[1;31mValueError\u001b[0m                                Traceback (most recent call last)",
      "\u001b[1;32m<ipython-input-102-14a7e32fcb6e>\u001b[0m in \u001b[0;36m<module>\u001b[1;34m\u001b[0m\n\u001b[1;32m----> 1\u001b[1;33m \u001b[0msns\u001b[0m\u001b[1;33m.\u001b[0m\u001b[0mcountplot\u001b[0m\u001b[1;33m(\u001b[0m\u001b[0mx\u001b[0m \u001b[1;33m=\u001b[0m \u001b[1;34m'Sex'\u001b[0m\u001b[1;33m,\u001b[0m \u001b[0mdata\u001b[0m\u001b[1;33m=\u001b[0m\u001b[0mdf\u001b[0m\u001b[1;33m)\u001b[0m\u001b[1;33m\u001b[0m\u001b[1;33m\u001b[0m\u001b[0m\n\u001b[0m",
      "\u001b[1;32m~\\anaconda3\\lib\\site-packages\\seaborn\\categorical.py\u001b[0m in \u001b[0;36mcountplot\u001b[1;34m(x, y, hue, data, order, hue_order, orient, color, palette, saturation, dodge, ax, **kwargs)\u001b[0m\n\u001b[0;32m   3547\u001b[0m         \u001b[1;32mraise\u001b[0m \u001b[0mTypeError\u001b[0m\u001b[1;33m(\u001b[0m\u001b[1;34m\"Must pass values for either `x` or `y`\"\u001b[0m\u001b[1;33m)\u001b[0m\u001b[1;33m\u001b[0m\u001b[1;33m\u001b[0m\u001b[0m\n\u001b[0;32m   3548\u001b[0m \u001b[1;33m\u001b[0m\u001b[0m\n\u001b[1;32m-> 3549\u001b[1;33m     plotter = _BarPlotter(x, y, hue, data, order, hue_order,\n\u001b[0m\u001b[0;32m   3550\u001b[0m                           \u001b[0mestimator\u001b[0m\u001b[1;33m,\u001b[0m \u001b[0mci\u001b[0m\u001b[1;33m,\u001b[0m \u001b[0mn_boot\u001b[0m\u001b[1;33m,\u001b[0m \u001b[0munits\u001b[0m\u001b[1;33m,\u001b[0m \u001b[0mseed\u001b[0m\u001b[1;33m,\u001b[0m\u001b[1;33m\u001b[0m\u001b[1;33m\u001b[0m\u001b[0m\n\u001b[0;32m   3551\u001b[0m                           \u001b[0morient\u001b[0m\u001b[1;33m,\u001b[0m \u001b[0mcolor\u001b[0m\u001b[1;33m,\u001b[0m \u001b[0mpalette\u001b[0m\u001b[1;33m,\u001b[0m \u001b[0msaturation\u001b[0m\u001b[1;33m,\u001b[0m\u001b[1;33m\u001b[0m\u001b[1;33m\u001b[0m\u001b[0m\n",
      "\u001b[1;32m~\\anaconda3\\lib\\site-packages\\seaborn\\categorical.py\u001b[0m in \u001b[0;36m__init__\u001b[1;34m(self, x, y, hue, data, order, hue_order, estimator, ci, n_boot, units, seed, orient, color, palette, saturation, errcolor, errwidth, capsize, dodge)\u001b[0m\n\u001b[0;32m   1600\u001b[0m                  errwidth, capsize, dodge):\n\u001b[0;32m   1601\u001b[0m         \u001b[1;34m\"\"\"Initialize the plotter.\"\"\"\u001b[0m\u001b[1;33m\u001b[0m\u001b[1;33m\u001b[0m\u001b[0m\n\u001b[1;32m-> 1602\u001b[1;33m         self.establish_variables(x, y, hue, data, orient,\n\u001b[0m\u001b[0;32m   1603\u001b[0m                                  order, hue_order, units)\n\u001b[0;32m   1604\u001b[0m         \u001b[0mself\u001b[0m\u001b[1;33m.\u001b[0m\u001b[0mestablish_colors\u001b[0m\u001b[1;33m(\u001b[0m\u001b[0mcolor\u001b[0m\u001b[1;33m,\u001b[0m \u001b[0mpalette\u001b[0m\u001b[1;33m,\u001b[0m \u001b[0msaturation\u001b[0m\u001b[1;33m)\u001b[0m\u001b[1;33m\u001b[0m\u001b[1;33m\u001b[0m\u001b[0m\n",
      "\u001b[1;32m~\\anaconda3\\lib\\site-packages\\seaborn\\categorical.py\u001b[0m in \u001b[0;36mestablish_variables\u001b[1;34m(self, x, y, hue, data, orient, order, hue_order, units)\u001b[0m\n\u001b[0;32m    150\u001b[0m                 \u001b[1;32mif\u001b[0m \u001b[0misinstance\u001b[0m\u001b[1;33m(\u001b[0m\u001b[0mvar\u001b[0m\u001b[1;33m,\u001b[0m \u001b[0mstr\u001b[0m\u001b[1;33m)\u001b[0m\u001b[1;33m:\u001b[0m\u001b[1;33m\u001b[0m\u001b[1;33m\u001b[0m\u001b[0m\n\u001b[0;32m    151\u001b[0m                     \u001b[0merr\u001b[0m \u001b[1;33m=\u001b[0m \u001b[1;34m\"Could not interpret input '{}'\"\u001b[0m\u001b[1;33m.\u001b[0m\u001b[0mformat\u001b[0m\u001b[1;33m(\u001b[0m\u001b[0mvar\u001b[0m\u001b[1;33m)\u001b[0m\u001b[1;33m\u001b[0m\u001b[1;33m\u001b[0m\u001b[0m\n\u001b[1;32m--> 152\u001b[1;33m                     \u001b[1;32mraise\u001b[0m \u001b[0mValueError\u001b[0m\u001b[1;33m(\u001b[0m\u001b[0merr\u001b[0m\u001b[1;33m)\u001b[0m\u001b[1;33m\u001b[0m\u001b[1;33m\u001b[0m\u001b[0m\n\u001b[0m\u001b[0;32m    153\u001b[0m \u001b[1;33m\u001b[0m\u001b[0m\n\u001b[0;32m    154\u001b[0m             \u001b[1;31m# Figure out the plotting orientation\u001b[0m\u001b[1;33m\u001b[0m\u001b[1;33m\u001b[0m\u001b[1;33m\u001b[0m\u001b[0m\n",
      "\u001b[1;31mValueError\u001b[0m: Could not interpret input 'Sex'"
     ]
    }
   ],
   "source": [
    "sns.countplot(x = 'Sex', data=df)"
   ]
  },
  {
   "cell_type": "code",
   "execution_count": 133,
   "metadata": {},
   "outputs": [
    {
     "data": {
      "text/plain": [
       "<matplotlib.axes._subplots.AxesSubplot at 0x12a1f323b50>"
      ]
     },
     "execution_count": 133,
     "metadata": {},
     "output_type": "execute_result"
    },
    {
     "data": {
      "image/png": "[encoded data removed]",
      "text/plain": [
       "<Figure size 432x288 with 1 Axes>"
      ]
     },
     "metadata": {
      "needs_background": "light"
     },
     "output_type": "display_data"
    }
   ],
   "source": [
    "# seaborn scatter plot showing the difference ratings between 2019 & 2020\n",
    "# https://python-graph-gallery.com/340-scatterplot-animation/\n",
    "# https://www.geeksforgeeks.org/scatterplot-using-seaborn-in-python/\n",
    "\n",
    "sns.scatterplot(x=df[\"Rating\"], y=df[\"2020_Rating\"])"
   ]
  },
  {
   "cell_type": "code",
   "execution_count": 134,
   "metadata": {},
   "outputs": [
    {
     "data": {
      "text/plain": [
       "<seaborn.axisgrid.PairGrid at 0x12a1f35b580>"
      ]
     },
     "execution_count": 134,
     "metadata": {},
     "output_type": "execute_result"
    },
    {
     "data": {
      "image/png": "[encoded data removed]",
      "text/plain": [
       "<Figure size 360x360 with 6 Axes>"
      ]
     },
     "metadata": {
      "needs_background": "light"
     },
     "output_type": "display_data"
    }
   ],
   "source": [
    "# Pairplot Age v Rating\n",
    "sns.pairplot(df, vars=[\"Age\", \"Rating\"])"
   ]
  },
  {
   "cell_type": "code",
   "execution_count": 135,
   "metadata": {},
   "outputs": [
    {
     "data": {
      "text/plain": [
       "<seaborn.axisgrid.PairGrid at 0x12a1d884a00>"
      ]
     },
     "execution_count": 135,
     "metadata": {},
     "output_type": "execute_result"
    },
    {
     "data": {
      "image/png": "[encoded data removed]",
      "text/plain": [
       "<Figure size 360x360 with 6 Axes>"
      ]
     },
     "metadata": {
      "needs_background": "light"
     },
     "output_type": "display_data"
    }
   ],
   "source": [
    "# Number of runs v Rating in 2020\n",
    "sns.pairplot(df, vars=[\"2020_#_Runs\", \"2020_Rating\"])"
   ]
  },
  {
   "cell_type": "code",
   "execution_count": 169,
   "metadata": {},
   "outputs": [
    {
     "name": "stdout",
     "output_type": "stream",
     "text": [
      "    Rating             Name      Distance    Bred Location  Age Novice  Sex   \\\n",
      "73     155    Mister Fisher  Intermediate   Irish       UK    6      Y  Male   \n",
      "3      172  Chacun Pour Soi       Minimum  French      IRE    8      N  Male   \n",
      "51     158         Faugheen  Intermediate   Irish      IRE   12      Y  Male   \n",
      "82     154       Marracudja       Minimum  French       UK    9      N  Male   \n",
      "\n",
      "   Retire  2020_#_Runs 2020_Distance  2020_Rating  \n",
      "73    yes            1       Minimum          147  \n",
      "3     yes            3  Intermediate          154  \n",
      "51    yes            1       Minimum          158  \n",
      "82    yes            5       Staying          145  \n"
     ]
    }
   ],
   "source": [
    "# https://www.geeksforgeeks.org/how-to-randomly-select-rows-from-pandas-dataframe/\n",
    "df1= df.iloc[0:113,[0,1,2,3,4,5,6,7,8,9,10,11]]\n",
    "x = df1.sample(n=4)\n",
    "\n",
    "#sns.relplot(x=\"2020_Rating\", y=\"Rating\",hue ='Name', data=x)\n",
    "print(x)\n",
    "\n",
    "\n",
    "#plt.show()"
   ]
  },
  {
   "cell_type": "code",
   "execution_count": 137,
   "metadata": {},
   "outputs": [
    {
     "ename": "ValueError",
     "evalue": "Could not interpret input '2020_Rating'",
     "output_type": "error",
     "traceback": [
      "\u001b[1;31m---------------------------------------------------------------------------\u001b[0m",
      "\u001b[1;31mValueError\u001b[0m                                Traceback (most recent call last)",
      "\u001b[1;32m<ipython-input-137-1d4d62d6ae50>\u001b[0m in \u001b[0;36m<module>\u001b[1;34m\u001b[0m\n\u001b[0;32m      1\u001b[0m \u001b[0mdf\u001b[0m\u001b[1;33m.\u001b[0m\u001b[0miloc\u001b[0m\u001b[1;33m[\u001b[0m\u001b[1;36m0\u001b[0m\u001b[1;33m:\u001b[0m\u001b[1;36m5\u001b[0m\u001b[1;33m,\u001b[0m \u001b[1;33m[\u001b[0m\u001b[1;36m0\u001b[0m\u001b[1;33m,\u001b[0m\u001b[1;36m5\u001b[0m\u001b[1;33m,\u001b[0m\u001b[1;36m10\u001b[0m\u001b[1;33m]\u001b[0m\u001b[1;33m]\u001b[0m\u001b[1;33m\u001b[0m\u001b[1;33m\u001b[0m\u001b[0m\n\u001b[1;32m----> 2\u001b[1;33m \u001b[0msns\u001b[0m\u001b[1;33m.\u001b[0m\u001b[0mrelplot\u001b[0m\u001b[1;33m(\u001b[0m\u001b[0mx\u001b[0m\u001b[1;33m=\u001b[0m\u001b[1;34m\"2020_Rating\"\u001b[0m\u001b[1;33m,\u001b[0m \u001b[0my\u001b[0m\u001b[1;33m=\u001b[0m\u001b[1;34m\"Rating\"\u001b[0m\u001b[1;33m,\u001b[0m\u001b[0mhue\u001b[0m \u001b[1;33m=\u001b[0m\u001b[1;34m'Novice'\u001b[0m\u001b[1;33m,\u001b[0m \u001b[0mdata\u001b[0m\u001b[1;33m=\u001b[0m\u001b[0mdf\u001b[0m\u001b[1;33m.\u001b[0m\u001b[0miloc\u001b[0m\u001b[1;33m[\u001b[0m\u001b[1;36m0\u001b[0m\u001b[1;33m:\u001b[0m\u001b[1;36m5\u001b[0m\u001b[1;33m,\u001b[0m \u001b[1;33m[\u001b[0m\u001b[1;36m0\u001b[0m\u001b[1;33m,\u001b[0m\u001b[1;36m10\u001b[0m\u001b[1;33m]\u001b[0m\u001b[1;33m]\u001b[0m\u001b[1;33m)\u001b[0m\u001b[1;33m\u001b[0m\u001b[1;33m\u001b[0m\u001b[0m\n\u001b[0m\u001b[0;32m      3\u001b[0m \u001b[0mprint\u001b[0m\u001b[1;33m(\u001b[0m\u001b[0mdf\u001b[0m\u001b[1;33m.\u001b[0m\u001b[0miloc\u001b[0m\u001b[1;33m[\u001b[0m\u001b[1;36m0\u001b[0m\u001b[1;33m:\u001b[0m\u001b[1;36m5\u001b[0m\u001b[1;33m,\u001b[0m \u001b[1;33m[\u001b[0m\u001b[1;36m0\u001b[0m\u001b[1;33m,\u001b[0m\u001b[1;36m5\u001b[0m\u001b[1;33m,\u001b[0m\u001b[1;36m10\u001b[0m\u001b[1;33m]\u001b[0m\u001b[1;33m]\u001b[0m\u001b[1;33m)\u001b[0m\u001b[1;33m\u001b[0m\u001b[1;33m\u001b[0m\u001b[0m\n\u001b[0;32m      4\u001b[0m \u001b[0mplt\u001b[0m\u001b[1;33m.\u001b[0m\u001b[0mshow\u001b[0m\u001b[1;33m(\u001b[0m\u001b[1;33m)\u001b[0m\u001b[1;33m\u001b[0m\u001b[1;33m\u001b[0m\u001b[0m\n\u001b[0;32m      5\u001b[0m \u001b[1;33m\u001b[0m\u001b[0m\n",
      "\u001b[1;32m~\\anaconda3\\lib\\site-packages\\seaborn\\relational.py\u001b[0m in \u001b[0;36mrelplot\u001b[1;34m(x, y, hue, size, style, data, row, col, col_wrap, row_order, col_order, palette, hue_order, hue_norm, sizes, size_order, size_norm, markers, dashes, style_order, legend, kind, height, aspect, facet_kws, **kwargs)\u001b[0m\n\u001b[0;32m   1653\u001b[0m \u001b[1;33m\u001b[0m\u001b[0m\n\u001b[0;32m   1654\u001b[0m     \u001b[1;31m# Use the full dataset to establish how to draw the semantics\u001b[0m\u001b[1;33m\u001b[0m\u001b[1;33m\u001b[0m\u001b[1;33m\u001b[0m\u001b[0m\n\u001b[1;32m-> 1655\u001b[1;33m     p = plotter(\n\u001b[0m\u001b[0;32m   1656\u001b[0m         \u001b[0mx\u001b[0m\u001b[1;33m=\u001b[0m\u001b[0mx\u001b[0m\u001b[1;33m,\u001b[0m \u001b[0my\u001b[0m\u001b[1;33m=\u001b[0m\u001b[0my\u001b[0m\u001b[1;33m,\u001b[0m \u001b[0mhue\u001b[0m\u001b[1;33m=\u001b[0m\u001b[0mhue\u001b[0m\u001b[1;33m,\u001b[0m \u001b[0msize\u001b[0m\u001b[1;33m=\u001b[0m\u001b[0msize\u001b[0m\u001b[1;33m,\u001b[0m \u001b[0mstyle\u001b[0m\u001b[1;33m=\u001b[0m\u001b[0mstyle\u001b[0m\u001b[1;33m,\u001b[0m \u001b[0mdata\u001b[0m\u001b[1;33m=\u001b[0m\u001b[0mdata\u001b[0m\u001b[1;33m,\u001b[0m\u001b[1;33m\u001b[0m\u001b[1;33m\u001b[0m\u001b[0m\n\u001b[0;32m   1657\u001b[0m         \u001b[0mpalette\u001b[0m\u001b[1;33m=\u001b[0m\u001b[0mpalette\u001b[0m\u001b[1;33m,\u001b[0m \u001b[0mhue_order\u001b[0m\u001b[1;33m=\u001b[0m\u001b[0mhue_order\u001b[0m\u001b[1;33m,\u001b[0m \u001b[0mhue_norm\u001b[0m\u001b[1;33m=\u001b[0m\u001b[0mhue_norm\u001b[0m\u001b[1;33m,\u001b[0m\u001b[1;33m\u001b[0m\u001b[1;33m\u001b[0m\u001b[0m\n",
      "\u001b[1;32m~\\anaconda3\\lib\\site-packages\\seaborn\\relational.py\u001b[0m in \u001b[0;36m__init__\u001b[1;34m(self, x, y, hue, size, style, data, palette, hue_order, hue_norm, sizes, size_order, size_norm, dashes, markers, style_order, x_bins, y_bins, units, estimator, ci, n_boot, alpha, x_jitter, y_jitter, legend)\u001b[0m\n\u001b[0;32m    883\u001b[0m                  legend=None):\n\u001b[0;32m    884\u001b[0m \u001b[1;33m\u001b[0m\u001b[0m\n\u001b[1;32m--> 885\u001b[1;33m         plot_data = self.establish_variables(\n\u001b[0m\u001b[0;32m    886\u001b[0m             \u001b[0mx\u001b[0m\u001b[1;33m,\u001b[0m \u001b[0my\u001b[0m\u001b[1;33m,\u001b[0m \u001b[0mhue\u001b[0m\u001b[1;33m,\u001b[0m \u001b[0msize\u001b[0m\u001b[1;33m,\u001b[0m \u001b[0mstyle\u001b[0m\u001b[1;33m,\u001b[0m \u001b[0munits\u001b[0m\u001b[1;33m,\u001b[0m \u001b[0mdata\u001b[0m\u001b[1;33m\u001b[0m\u001b[1;33m\u001b[0m\u001b[0m\n\u001b[0;32m    887\u001b[0m         )\n",
      "\u001b[1;32m~\\anaconda3\\lib\\site-packages\\seaborn\\relational.py\u001b[0m in \u001b[0;36mestablish_variables\u001b[1;34m(self, x, y, hue, size, style, units, data)\u001b[0m\n\u001b[0;32m    135\u001b[0m                 \u001b[1;32mif\u001b[0m \u001b[0misinstance\u001b[0m\u001b[1;33m(\u001b[0m\u001b[0mvar\u001b[0m\u001b[1;33m,\u001b[0m \u001b[0mstr\u001b[0m\u001b[1;33m)\u001b[0m\u001b[1;33m:\u001b[0m\u001b[1;33m\u001b[0m\u001b[1;33m\u001b[0m\u001b[0m\n\u001b[0;32m    136\u001b[0m                     \u001b[0merr\u001b[0m \u001b[1;33m=\u001b[0m \u001b[1;34m\"Could not interpret input '{}'\"\u001b[0m\u001b[1;33m.\u001b[0m\u001b[0mformat\u001b[0m\u001b[1;33m(\u001b[0m\u001b[0mvar\u001b[0m\u001b[1;33m)\u001b[0m\u001b[1;33m\u001b[0m\u001b[1;33m\u001b[0m\u001b[0m\n\u001b[1;32m--> 137\u001b[1;33m                     \u001b[1;32mraise\u001b[0m \u001b[0mValueError\u001b[0m\u001b[1;33m(\u001b[0m\u001b[0merr\u001b[0m\u001b[1;33m)\u001b[0m\u001b[1;33m\u001b[0m\u001b[1;33m\u001b[0m\u001b[0m\n\u001b[0m\u001b[0;32m    138\u001b[0m \u001b[1;33m\u001b[0m\u001b[0m\n\u001b[0;32m    139\u001b[0m             \u001b[1;31m# Extract variable names\u001b[0m\u001b[1;33m\u001b[0m\u001b[1;33m\u001b[0m\u001b[1;33m\u001b[0m\u001b[0m\n",
      "\u001b[1;31mValueError\u001b[0m: Could not interpret input '2020_Rating'"
     ]
    }
   ],
   "source": [
    "df.iloc[0:5, [0,5,10]]\n",
    "sns.relplot(x=\"2020_Rating\", y=\"Rating\",hue ='Novice', data=df.iloc[0:5, [0,10]])\n",
    "print(df.iloc[0:5, [0,5,10]])\n",
    "plt.show()\n",
    "\n",
    "\n",
    "\n",
    "\n",
    "# https://pbpython.com/selecting-columns.html"
   ]
  },
  {
   "cell_type": "code",
   "execution_count": 110,
   "metadata": {},
   "outputs": [
    {
     "name": "stdout",
     "output_type": "stream",
     "text": [
      "                Rating      Distance     Bred Location  Age Novice  Sex   \\\n",
      "Name                                                                       \n",
      "Bristol de Mai     169       Staying   French       UK    9      N  Male   \n",
      "Nuts Well          152  Intermediate  British       UK    9      N  Male   \n",
      "Ballyoisin         168       Minimum    Irish      IRE    9      N  Male   \n",
      "\n",
      "               Retire  2020_#_Runs 2020_Distance  2020_Rating  \n",
      "Name                                                           \n",
      "Bristol de Mai    yes            4       Minimum          145  \n",
      "Nuts Well         yes            6       Staying          145  \n",
      "Ballyoisin        yes            4       Staying          152  \n"
     ]
    },
    {
     "data": {
      "image/png": "[encoded data removed]",
      "text/plain": [
       "<Figure size 360x360 with 1 Axes>"
      ]
     },
     "metadata": {
      "needs_background": "light"
     },
     "output_type": "display_data"
    }
   ],
   "source": [
    "sns.relplot(x=\"2020_Rating\", y=\"Rating\", hue =data=df.sample(n=3)) \n",
    "print(df.sample(n=3))\n",
    "plt.show()"
   ]
  },
  {
   "cell_type": "markdown",
   "metadata": {},
   "source": [
    "### Glossary\n",
    "Steeplechase\n",
    "mile \n",
    "furlong"
   ]
  },
  {
   "cell_type": "markdown",
   "metadata": {},
   "source": [
    "### Reference list\n",
    "\n",
    "https://support.racingadmin.co.uk/opencms/export/sites/weatherbys/racing-admin-support/.galleries/racing-admin-downloads/anglo-irish-jump-classification.pdf"
   ]
  },
  {
   "cell_type": "code",
   "execution_count": null,
   "metadata": {},
   "outputs": [],
   "source": []
  }
 ],
 "metadata": {
  "kernelspec": {
   "display_name": "Python 3",
   "language": "python",
   "name": "python3"
  },
  "language_info": {
   "codemirror_mode": {
    "name": "ipython",
    "version": 3
   },
   "file_extension": ".py",
   "mimetype": "text/x-python",
   "name": "python",
   "nbconvert_exporter": "python",
   "pygments_lexer": "ipython3",
   "version": "3.8.3"
  }
 },
 "nbformat": 4,
 "nbformat_minor": 4
}
